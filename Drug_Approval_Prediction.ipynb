{
  "nbformat": 4,
  "nbformat_minor": 0,
  "metadata": {
    "colab": {
      "provenance": []
    },
    "kernelspec": {
      "name": "python3",
      "display_name": "Python 3"
    },
    "language_info": {
      "name": "python"
    }
  },
  "cells": [
    {
      "cell_type": "code",
      "source": [
        "#requrements\n",
        "import sys\n",
        "import pandas as pd\n",
        "from datetime import datetime\n",
        "import sklearn\n",
        "from sklearn.metrics import f1_score, precision_score, recall_score, accuracy_score, matthews_corrcoef\n",
        "from sklearn.model_selection import cross_validate\n",
        "from sklearn.metrics import make_scorer\n",
        "from sklearn.model_selection import StratifiedKFold\n",
        "from sklearn.ensemble import RandomForestClassifier"
      ],
      "metadata": {
        "id": "xAzkqs5O0nY6"
      },
      "execution_count": 1,
      "outputs": []
    },
    {
      "cell_type": "markdown",
      "source": [
        "Raw data taken from https://github.com/HUBioDataLab/DrugApp (thanks for data)"
      ],
      "metadata": {
        "id": "xd86OpH3Eimh"
      }
    },
    {
      "cell_type": "code",
      "source": [
        "import glob\n",
        "import pandas as pd\n",
        "\n",
        "# Get a list of all CSV files ending with 'raw_features.csv'\n",
        "All_drug_files = glob.glob('All_drug_indication_raw_features.csv')\n",
        "\n",
        "# Check if the file exists and load it into a DataFrame\n",
        "if All_drug_files:\n",
        "    all_drugs = pd.read_csv(All_drug_files[0])\n",
        "    print(\"Successfully loaded 'All_drug_indication_raw_features.csv' into the 'all_drugs' DataFrame.\")\n",
        "else:\n",
        "    print(\"'All_drug_indication_raw_features.csv' not found.\")"
      ],
      "metadata": {
        "colab": {
          "base_uri": "https://localhost:8080/"
        },
        "id": "rgM-_EWJzX8V",
        "outputId": "a4207282-fd9d-426c-e9cf-dca0db8a6a79"
      },
      "execution_count": 3,
      "outputs": [
        {
          "output_type": "stream",
          "name": "stdout",
          "text": [
            "Successfully loaded 'All_drug_indication_raw_features.csv' into the 'all_drugs' DataFrame.\n"
          ]
        },
        {
          "output_type": "stream",
          "name": "stderr",
          "text": [
            "/tmp/ipython-input-2025475421.py:9: DtypeWarning: Columns (2,4) have mixed types. Specify dtype option on import or set low_memory=False.\n",
            "  all_drugs = pd.read_csv(All_drug_files[0])\n"
          ]
        }
      ]
    },
    {
      "cell_type": "code",
      "source": [
        "all_drugs['Label'].value_counts() # 1= approved,0 unapproved drug"
      ],
      "metadata": {
        "colab": {
          "base_uri": "https://localhost:8080/",
          "height": 178
        },
        "id": "fjxYSxf7IyXy",
        "outputId": "70da831b-6bfd-46dc-f389-2afa70c389db"
      },
      "execution_count": 4,
      "outputs": [
        {
          "output_type": "execute_result",
          "data": {
            "text/plain": [
              "Label\n",
              "1    18427\n",
              "0     2480\n",
              "Name: count, dtype: int64"
            ],
            "text/html": [
              "<div>\n",
              "<style scoped>\n",
              "    .dataframe tbody tr th:only-of-type {\n",
              "        vertical-align: middle;\n",
              "    }\n",
              "\n",
              "    .dataframe tbody tr th {\n",
              "        vertical-align: top;\n",
              "    }\n",
              "\n",
              "    .dataframe thead th {\n",
              "        text-align: right;\n",
              "    }\n",
              "</style>\n",
              "<table border=\"1\" class=\"dataframe\">\n",
              "  <thead>\n",
              "    <tr style=\"text-align: right;\">\n",
              "      <th></th>\n",
              "      <th>count</th>\n",
              "    </tr>\n",
              "    <tr>\n",
              "      <th>Label</th>\n",
              "      <th></th>\n",
              "    </tr>\n",
              "  </thead>\n",
              "  <tbody>\n",
              "    <tr>\n",
              "      <th>1</th>\n",
              "      <td>18427</td>\n",
              "    </tr>\n",
              "    <tr>\n",
              "      <th>0</th>\n",
              "      <td>2480</td>\n",
              "    </tr>\n",
              "  </tbody>\n",
              "</table>\n",
              "</div><br><label><b>dtype:</b> int64</label>"
            ]
          },
          "metadata": {},
          "execution_count": 4
        }
      ]
    },
    {
      "cell_type": "code",
      "metadata": {
        "colab": {
          "base_uri": "https://localhost:8080/"
        },
        "id": "01b22391",
        "outputId": "0e2cce6f-a2c5-498e-8ce1-2e8f68a3597d"
      },
      "source": [
        "for col in all_drugs.columns:\n",
        "    print(col)"
      ],
      "execution_count": 5,
      "outputs": [
        {
          "output_type": "stream",
          "name": "stdout",
          "text": [
            "SMILES\n",
            "Label\n",
            "DrugBank ID\n",
            "Name\n",
            "Patent_id\n",
            "Status\n",
            "NCT_Number\n",
            "Conditions\n",
            "Gender\n",
            "Age_y\n",
            "Funder_Type\n",
            "Study Designs\n",
            "Locations\n",
            "CPC\n",
            "Gender_code_0\n",
            "Gender_code_1\n",
            "Gender_code_2\n",
            "Gender_code_3\n",
            "Age_code_0\n",
            "Age_code_1\n",
            "Age_code_2\n",
            "Age_code_3\n",
            "Age_code_4\n",
            "Age_code_5\n",
            "Allocation_Type_0\n",
            "Allocation_Type_1\n",
            "Allocation_Type_2\n",
            "Allocation_Type_3\n",
            "Intervention_Model_0\n",
            "Intervention_Model_1\n",
            "Intervention_Model_2\n",
            "Intervention_Model_3\n",
            "Intervention_Model_4\n",
            "Intervention_Model_5\n",
            "Country_0\n",
            "Country_1\n",
            "Country_2\n",
            "Country_3\n",
            "Country_4\n",
            "Country_5\n",
            "Funder_Type_0\n",
            "Funder_Type_1\n",
            "Funder_Type_2\n",
            "Funder_Type_3\n",
            "Funder_Type_4\n",
            "Funder_Type_5\n",
            "claims_#\n",
            "Duration\n",
            "Patent_#\n",
            "PCT_code_0\n",
            "PCT_code_1\n",
            "PCT_code_2\n",
            "CPC_code_0\n",
            "CPC_code_1\n",
            "CPC_code_2\n",
            "CPC_code_3\n",
            "CPC_code_4\n",
            "CPC_code_5\n",
            "logP\n",
            "MW\n",
            "PSA\n",
            "HBA\n",
            "HBD\n",
            "Rings\n",
            "Polarizability\n",
            "Refractivity\n",
            "Bond_#\n",
            "Bioavailability_0\n",
            "Bioavailability_1\n",
            "Bioavailability_2\n",
            "ECFP4.1\n",
            "ECFP4.2\n",
            "ECFP4.3\n",
            "ECFP4.4\n",
            "ECFP4.5\n",
            "ECFP4.6\n",
            "ECFP4.7\n",
            "ECFP4.8\n",
            "ECFP4.9\n",
            "ECFP4.10\n",
            "ECFP4.11\n",
            "ECFP4.12\n",
            "ECFP4.13\n",
            "ECFP4.14\n",
            "ECFP4.15\n",
            "ECFP4.16\n",
            "ECFP4.17\n",
            "ECFP4.18\n",
            "ECFP4.19\n",
            "ECFP4.20\n",
            "ECFP4.21\n",
            "ECFP4.22\n",
            "ECFP4.23\n",
            "ECFP4.24\n",
            "ECFP4.25\n",
            "ECFP4.26\n",
            "ECFP4.27\n",
            "ECFP4.28\n",
            "ECFP4.29\n",
            "ECFP4.30\n",
            "ECFP4.31\n",
            "ECFP4.32\n",
            "ECFP4.33\n",
            "ECFP4.34\n",
            "ECFP4.35\n",
            "ECFP4.36\n",
            "ECFP4.37\n",
            "ECFP4.38\n",
            "ECFP4.39\n",
            "ECFP4.40\n",
            "ECFP4.41\n",
            "ECFP4.42\n",
            "ECFP4.43\n",
            "ECFP4.44\n",
            "ECFP4.45\n",
            "ECFP4.46\n",
            "ECFP4.47\n",
            "ECFP4.48\n",
            "ECFP4.49\n",
            "ECFP4.50\n",
            "ECFP4.51\n",
            "ECFP4.52\n",
            "ECFP4.53\n",
            "ECFP4.54\n",
            "ECFP4.55\n",
            "ECFP4.56\n",
            "ECFP4.57\n",
            "ECFP4.58\n",
            "ECFP4.59\n",
            "ECFP4.60\n",
            "ECFP4.61\n",
            "ECFP4.62\n",
            "ECFP4.63\n",
            "ECFP4.64\n",
            "ECFP4.65\n",
            "ECFP4.66\n",
            "ECFP4.67\n",
            "ECFP4.68\n",
            "ECFP4.69\n",
            "ECFP4.70\n",
            "ECFP4.71\n",
            "ECFP4.72\n",
            "ECFP4.73\n",
            "ECFP4.74\n",
            "ECFP4.75\n",
            "ECFP4.76\n",
            "ECFP4.77\n",
            "ECFP4.78\n",
            "ECFP4.79\n",
            "ECFP4.80\n",
            "ECFP4.81\n",
            "ECFP4.82\n",
            "ECFP4.83\n",
            "ECFP4.84\n",
            "ECFP4.85\n",
            "ECFP4.86\n",
            "ECFP4.87\n",
            "ECFP4.88\n",
            "ECFP4.89\n",
            "ECFP4.90\n",
            "ECFP4.91\n",
            "ECFP4.92\n",
            "ECFP4.93\n",
            "ECFP4.94\n",
            "ECFP4.95\n",
            "ECFP4.96\n",
            "ECFP4.97\n",
            "ECFP4.98\n",
            "ECFP4.99\n",
            "ECFP4.100\n",
            "ECFP4.101\n",
            "ECFP4.102\n",
            "ECFP4.103\n",
            "ECFP4.104\n",
            "ECFP4.105\n",
            "ECFP4.106\n",
            "ECFP4.107\n",
            "ECFP4.108\n",
            "ECFP4.109\n",
            "ECFP4.110\n",
            "ECFP4.111\n",
            "ECFP4.112\n",
            "ECFP4.113\n",
            "ECFP4.114\n",
            "ECFP4.115\n",
            "ECFP4.116\n",
            "ECFP4.117\n",
            "ECFP4.118\n",
            "ECFP4.119\n",
            "ECFP4.120\n",
            "ECFP4.121\n",
            "ECFP4.122\n",
            "ECFP4.123\n",
            "ECFP4.124\n",
            "ECFP4.125\n",
            "ECFP4.126\n",
            "ECFP4.127\n",
            "ECFP4.128\n"
          ]
        }
      ]
    },
    {
      "cell_type": "code",
      "source": [
        "all_drugs['Conditions'].value_counts() # therapy/indication coverage"
      ],
      "metadata": {
        "colab": {
          "base_uri": "https://localhost:8080/",
          "height": 489
        },
        "id": "sJx516PA5-Wm",
        "outputId": "2d2ada12-5a14-45f4-f455-4829c7328429"
      },
      "execution_count": 6,
      "outputs": [
        {
          "output_type": "execute_result",
          "data": {
            "text/plain": [
              "Conditions\n",
              "HIV INFECTION                                                                                  107\n",
              "TYPE 2 DIABETES                                                                                 98\n",
              "HYPERTENSION                                                                                    95\n",
              "SCHIZOPHRENIA                                                                                   93\n",
              "CORONARY ARTERY DISEASE                                                                         89\n",
              "                                                                                              ... \n",
              "ST-SEGMENT ELEVATION MYOCARDIAL INFARCTION|NON ST-SEGMENT ELEVATION MYOCARDIAL INFARCTION        1\n",
              "HEALTHY NON-SMOKERS|CURRENT SMOKERS|COPD PATIENTS                                                1\n",
              "UNCOMPLICATED FALCIPARUM MALARIA|ARTEMISININ-RESISTANT                                           1\n",
              "CARDIOTHORACIC SURGERY|VASCULAR SURGERY                                                          1\n",
              "STAGE 5 CHRONIC KIDNEY DISEASE (CKD)|SECONDARY HYPERPARATHYROIDISM (SHPT)|HEMODIALYSIS (HD)      1\n",
              "Name: count, Length: 8324, dtype: int64"
            ],
            "text/html": [
              "<div>\n",
              "<style scoped>\n",
              "    .dataframe tbody tr th:only-of-type {\n",
              "        vertical-align: middle;\n",
              "    }\n",
              "\n",
              "    .dataframe tbody tr th {\n",
              "        vertical-align: top;\n",
              "    }\n",
              "\n",
              "    .dataframe thead th {\n",
              "        text-align: right;\n",
              "    }\n",
              "</style>\n",
              "<table border=\"1\" class=\"dataframe\">\n",
              "  <thead>\n",
              "    <tr style=\"text-align: right;\">\n",
              "      <th></th>\n",
              "      <th>count</th>\n",
              "    </tr>\n",
              "    <tr>\n",
              "      <th>Conditions</th>\n",
              "      <th></th>\n",
              "    </tr>\n",
              "  </thead>\n",
              "  <tbody>\n",
              "    <tr>\n",
              "      <th>HIV INFECTION</th>\n",
              "      <td>107</td>\n",
              "    </tr>\n",
              "    <tr>\n",
              "      <th>TYPE 2 DIABETES</th>\n",
              "      <td>98</td>\n",
              "    </tr>\n",
              "    <tr>\n",
              "      <th>HYPERTENSION</th>\n",
              "      <td>95</td>\n",
              "    </tr>\n",
              "    <tr>\n",
              "      <th>SCHIZOPHRENIA</th>\n",
              "      <td>93</td>\n",
              "    </tr>\n",
              "    <tr>\n",
              "      <th>CORONARY ARTERY DISEASE</th>\n",
              "      <td>89</td>\n",
              "    </tr>\n",
              "    <tr>\n",
              "      <th>...</th>\n",
              "      <td>...</td>\n",
              "    </tr>\n",
              "    <tr>\n",
              "      <th>ST-SEGMENT ELEVATION MYOCARDIAL INFARCTION|NON ST-SEGMENT ELEVATION MYOCARDIAL INFARCTION</th>\n",
              "      <td>1</td>\n",
              "    </tr>\n",
              "    <tr>\n",
              "      <th>HEALTHY NON-SMOKERS|CURRENT SMOKERS|COPD PATIENTS</th>\n",
              "      <td>1</td>\n",
              "    </tr>\n",
              "    <tr>\n",
              "      <th>UNCOMPLICATED FALCIPARUM MALARIA|ARTEMISININ-RESISTANT</th>\n",
              "      <td>1</td>\n",
              "    </tr>\n",
              "    <tr>\n",
              "      <th>CARDIOTHORACIC SURGERY|VASCULAR SURGERY</th>\n",
              "      <td>1</td>\n",
              "    </tr>\n",
              "    <tr>\n",
              "      <th>STAGE 5 CHRONIC KIDNEY DISEASE (CKD)|SECONDARY HYPERPARATHYROIDISM (SHPT)|HEMODIALYSIS (HD)</th>\n",
              "      <td>1</td>\n",
              "    </tr>\n",
              "  </tbody>\n",
              "</table>\n",
              "<p>8324 rows × 1 columns</p>\n",
              "</div><br><label><b>dtype:</b> int64</label>"
            ]
          },
          "metadata": {},
          "execution_count": 6
        }
      ]
    },
    {
      "cell_type": "code",
      "source": [
        "all_drugs['Study Designs'].value_counts() # 467 type clinical trial study design coverage"
      ],
      "metadata": {
        "colab": {
          "base_uri": "https://localhost:8080/",
          "height": 489
        },
        "id": "MVkjHcWPwNCE",
        "outputId": "a6e6bda0-17fe-476f-8e7f-e5887e54d7e9"
      },
      "execution_count": 7,
      "outputs": [
        {
          "output_type": "execute_result",
          "data": {
            "text/plain": [
              "Study Designs\n",
              "Allocation: Randomized|Intervention Model: Parallel Assignment|Masking: None (Open Label)|Primary Purpose: Treatment                                                                  3520\n",
              "Allocation: N/A|Intervention Model: Single Group Assignment|Masking: None (Open Label)|Primary Purpose: Treatment                                                                     2126\n",
              "Allocation: Randomized|Intervention Model: Parallel Assignment|Masking: Quadruple (Participant, Care Provider, Investigator, Outcomes Assessor)|Primary Purpose: Treatment            1859\n",
              "Allocation: Randomized|Intervention Model: Parallel Assignment|Masking: Double (Participant, Investigator)|Primary Purpose: Treatment                                                 1003\n",
              "Allocation: Randomized|Intervention Model: Parallel Assignment|Masking: Triple (Participant, Care Provider, Investigator)|Primary Purpose: Treatment                                   645\n",
              "                                                                                                                                                                                      ... \n",
              "Observational Model: Other|Time Perspective: Prospective                                                                                                                                 1\n",
              "Allocation: Randomized|Intervention Model: Single Group Assignment|Masking: Quadruple (Participant, Care Provider, Investigator, Outcomes Assessor)|Primary Purpose: Basic Science       1\n",
              "Allocation: Randomized|Intervention Model: Crossover Assignment|Masking: Single (Participant)|Primary Purpose: Health Services Research                                                  1\n",
              "Allocation: Randomized|Intervention Model: Single Group Assignment|Masking: Double (Participant, Care Provider)                                                                          1\n",
              "Allocation: Randomized|Intervention Model: Sequential Assignment|Masking: Double (Participant, Investigator)|Primary Purpose: Prevention                                                 1\n",
              "Name: count, Length: 440, dtype: int64"
            ],
            "text/html": [
              "<div>\n",
              "<style scoped>\n",
              "    .dataframe tbody tr th:only-of-type {\n",
              "        vertical-align: middle;\n",
              "    }\n",
              "\n",
              "    .dataframe tbody tr th {\n",
              "        vertical-align: top;\n",
              "    }\n",
              "\n",
              "    .dataframe thead th {\n",
              "        text-align: right;\n",
              "    }\n",
              "</style>\n",
              "<table border=\"1\" class=\"dataframe\">\n",
              "  <thead>\n",
              "    <tr style=\"text-align: right;\">\n",
              "      <th></th>\n",
              "      <th>count</th>\n",
              "    </tr>\n",
              "    <tr>\n",
              "      <th>Study Designs</th>\n",
              "      <th></th>\n",
              "    </tr>\n",
              "  </thead>\n",
              "  <tbody>\n",
              "    <tr>\n",
              "      <th>Allocation: Randomized|Intervention Model: Parallel Assignment|Masking: None (Open Label)|Primary Purpose: Treatment</th>\n",
              "      <td>3520</td>\n",
              "    </tr>\n",
              "    <tr>\n",
              "      <th>Allocation: N/A|Intervention Model: Single Group Assignment|Masking: None (Open Label)|Primary Purpose: Treatment</th>\n",
              "      <td>2126</td>\n",
              "    </tr>\n",
              "    <tr>\n",
              "      <th>Allocation: Randomized|Intervention Model: Parallel Assignment|Masking: Quadruple (Participant, Care Provider, Investigator, Outcomes Assessor)|Primary Purpose: Treatment</th>\n",
              "      <td>1859</td>\n",
              "    </tr>\n",
              "    <tr>\n",
              "      <th>Allocation: Randomized|Intervention Model: Parallel Assignment|Masking: Double (Participant, Investigator)|Primary Purpose: Treatment</th>\n",
              "      <td>1003</td>\n",
              "    </tr>\n",
              "    <tr>\n",
              "      <th>Allocation: Randomized|Intervention Model: Parallel Assignment|Masking: Triple (Participant, Care Provider, Investigator)|Primary Purpose: Treatment</th>\n",
              "      <td>645</td>\n",
              "    </tr>\n",
              "    <tr>\n",
              "      <th>...</th>\n",
              "      <td>...</td>\n",
              "    </tr>\n",
              "    <tr>\n",
              "      <th>Observational Model: Other|Time Perspective: Prospective</th>\n",
              "      <td>1</td>\n",
              "    </tr>\n",
              "    <tr>\n",
              "      <th>Allocation: Randomized|Intervention Model: Single Group Assignment|Masking: Quadruple (Participant, Care Provider, Investigator, Outcomes Assessor)|Primary Purpose: Basic Science</th>\n",
              "      <td>1</td>\n",
              "    </tr>\n",
              "    <tr>\n",
              "      <th>Allocation: Randomized|Intervention Model: Crossover Assignment|Masking: Single (Participant)|Primary Purpose: Health Services Research</th>\n",
              "      <td>1</td>\n",
              "    </tr>\n",
              "    <tr>\n",
              "      <th>Allocation: Randomized|Intervention Model: Single Group Assignment|Masking: Double (Participant, Care Provider)</th>\n",
              "      <td>1</td>\n",
              "    </tr>\n",
              "    <tr>\n",
              "      <th>Allocation: Randomized|Intervention Model: Sequential Assignment|Masking: Double (Participant, Investigator)|Primary Purpose: Prevention</th>\n",
              "      <td>1</td>\n",
              "    </tr>\n",
              "  </tbody>\n",
              "</table>\n",
              "<p>440 rows × 1 columns</p>\n",
              "</div><br><label><b>dtype:</b> int64</label>"
            ]
          },
          "metadata": {},
          "execution_count": 7
        }
      ]
    },
    {
      "cell_type": "markdown",
      "source": [
        "Deletion on all patents related features columns becouse patent does not play any significance role in Drug discovery or approval"
      ],
      "metadata": {
        "id": "KuR08v_WFAW_"
      }
    },
    {
      "cell_type": "code",
      "source": [
        "#Droping patents related columns like from combined_df create final_df\n",
        "drop_cols = ['Study Designs','Age_y','Patent_id','DrugBank ID','claims_#','Duration','Patent_#','PCT_code_0','PCT_code_1','PCT_code_2','CPC_code_0','CPC_code_1','CPC_code_2','CPC_code_3','CPC_code_4','CPC_code_5']\n",
        "final_df=all_drugs.drop(drop_cols, axis=1)"
      ],
      "metadata": {
        "id": "QZriW0eywsyG"
      },
      "execution_count": 9,
      "outputs": []
    },
    {
      "cell_type": "code",
      "source": [
        "drop_cal2=['Name', 'Status','NCT_Number','Funder_Type','Locations','CPC']\n",
        "final_df=final_df.drop(drop_cal2, axis=1)"
      ],
      "metadata": {
        "id": "hFETPyXNx359"
      },
      "execution_count": 10,
      "outputs": []
    },
    {
      "cell_type": "code",
      "source": [
        "drop_cal3=['Gender','SMILES','Conditions']\n",
        "final_df=final_df.drop(drop_cal3, axis=1)"
      ],
      "metadata": {
        "id": "Z4SoBR3byybc"
      },
      "execution_count": 11,
      "outputs": []
    },
    {
      "cell_type": "code",
      "source": [
        "final_df.shape"
      ],
      "metadata": {
        "colab": {
          "base_uri": "https://localhost:8080/"
        },
        "id": "TFo_epoW27IM",
        "outputId": "a1b8fa92-0c51-4a3b-8711-20560eb3423b"
      },
      "execution_count": 12,
      "outputs": [
        {
          "output_type": "execute_result",
          "data": {
            "text/plain": [
              "(20907, 173)"
            ]
          },
          "metadata": {},
          "execution_count": 12
        }
      ]
    },
    {
      "cell_type": "markdown",
      "source": [
        "** Automatic Hyperparamer tuning Framework**"
      ],
      "metadata": {
        "id": "rrB1mq4Pzk6c"
      }
    },
    {
      "cell_type": "code",
      "source": [
        "!pip install optuna\n",
        "import optuna"
      ],
      "metadata": {
        "colab": {
          "base_uri": "https://localhost:8080/"
        },
        "id": "3ZZF_29XzaE6",
        "outputId": "6d6c8862-e9e9-4105-990c-811493b7f7fb"
      },
      "execution_count": 13,
      "outputs": [
        {
          "output_type": "stream",
          "name": "stdout",
          "text": [
            "Collecting optuna\n",
            "  Downloading optuna-4.5.0-py3-none-any.whl.metadata (17 kB)\n",
            "Requirement already satisfied: alembic>=1.5.0 in /usr/local/lib/python3.12/dist-packages (from optuna) (1.16.5)\n",
            "Collecting colorlog (from optuna)\n",
            "  Downloading colorlog-6.9.0-py3-none-any.whl.metadata (10 kB)\n",
            "Requirement already satisfied: numpy in /usr/local/lib/python3.12/dist-packages (from optuna) (2.0.2)\n",
            "Requirement already satisfied: packaging>=20.0 in /usr/local/lib/python3.12/dist-packages (from optuna) (25.0)\n",
            "Requirement already satisfied: sqlalchemy>=1.4.2 in /usr/local/lib/python3.12/dist-packages (from optuna) (2.0.43)\n",
            "Requirement already satisfied: tqdm in /usr/local/lib/python3.12/dist-packages (from optuna) (4.67.1)\n",
            "Requirement already satisfied: PyYAML in /usr/local/lib/python3.12/dist-packages (from optuna) (6.0.2)\n",
            "Requirement already satisfied: Mako in /usr/local/lib/python3.12/dist-packages (from alembic>=1.5.0->optuna) (1.3.10)\n",
            "Requirement already satisfied: typing-extensions>=4.12 in /usr/local/lib/python3.12/dist-packages (from alembic>=1.5.0->optuna) (4.15.0)\n",
            "Requirement already satisfied: greenlet>=1 in /usr/local/lib/python3.12/dist-packages (from sqlalchemy>=1.4.2->optuna) (3.2.4)\n",
            "Requirement already satisfied: MarkupSafe>=0.9.2 in /usr/local/lib/python3.12/dist-packages (from Mako->alembic>=1.5.0->optuna) (3.0.2)\n",
            "Downloading optuna-4.5.0-py3-none-any.whl (400 kB)\n",
            "\u001b[2K   \u001b[90m━━━━━━━━━━━━━━━━━━━━━━━━━━━━━━━━━━━━━━━━\u001b[0m \u001b[32m400.9/400.9 kB\u001b[0m \u001b[31m6.6 MB/s\u001b[0m eta \u001b[36m0:00:00\u001b[0m\n",
            "\u001b[?25hDownloading colorlog-6.9.0-py3-none-any.whl (11 kB)\n",
            "Installing collected packages: colorlog, optuna\n",
            "Successfully installed colorlog-6.9.0 optuna-4.5.0\n"
          ]
        }
      ]
    },
    {
      "cell_type": "code",
      "source": [
        "x=final_df.drop('Label', axis=1)\n",
        "y=final_df['Label']"
      ],
      "metadata": {
        "id": "MOq9eNUf27ky"
      },
      "execution_count": 14,
      "outputs": []
    },
    {
      "cell_type": "code",
      "source": [
        "from sklearn.model_selection import train_test_split\n",
        "x_train, x_test, y_train, y_test = train_test_split(x, y, test_size=0.25, random_state=42)"
      ],
      "metadata": {
        "id": "WuaQIiPu0I8w"
      },
      "execution_count": 15,
      "outputs": []
    },
    {
      "cell_type": "code",
      "source": [
        "from ast import mod\n",
        "from math import log\n",
        "def objective(trial):\n",
        "  #tuning hyperparameter\n",
        "  max_depth=trial.suggest_int('max_depth', 1, 30, log=True)\n",
        "  n_estimators=trial.suggest_int('n_estimators', 1, 200, log=True)\n",
        "  min_samples_split=trial.suggest_int('min_samples_split', 2, 100, log=True)\n",
        "  min__sample_leaf=trial.suggest_int('min_samples_leaf', 1, 100, log=True)\n",
        "  criterion=trial.suggest_categorical('criterion', ['gini', 'entropy','log_loss'])\n",
        "  #create the model on above parameters\n",
        "  model=RandomForestClassifier(max_depth=max_depth, n_estimators=n_estimators, min_samples_split=min_samples_split, min_samples_leaf=min__sample_leaf, criterion=criterion)\n",
        "  model.fit(x_train, y_train)\n",
        "  #make prediction and evaluation of model\n",
        "  y_pred=model.predict(x_test)\n",
        "  accuracy=accuracy_score(y_test, y_pred)\n",
        "  return accuracy"
      ],
      "metadata": {
        "id": "vIioalZiw-AM"
      },
      "execution_count": 16,
      "outputs": []
    },
    {
      "cell_type": "code",
      "source": [
        "study=optuna.create_study(direction='maximize')\n",
        "study.optimize(objective, n_trials=100)"
      ],
      "metadata": {
        "colab": {
          "base_uri": "https://localhost:8080/"
        },
        "id": "7u7dZP7F7yCZ",
        "outputId": "79183b91-94db-4da1-8f78-349468ce68e9"
      },
      "execution_count": 17,
      "outputs": [
        {
          "output_type": "stream",
          "name": "stderr",
          "text": [
            "[I 2025-09-13 07:20:37,138] A new study created in memory with name: no-name-1b71c930-4495-45f3-afb3-5b2599a11966\n",
            "[I 2025-09-13 07:20:37,376] Trial 0 finished with value: 0.940883872202028 and parameters: {'max_depth': 13, 'n_estimators': 7, 'min_samples_split': 5, 'min_samples_leaf': 1, 'criterion': 'entropy'}. Best is trial 0 with value: 0.940883872202028.\n",
            "[I 2025-09-13 07:20:38,610] Trial 1 finished with value: 0.8909508322173331 and parameters: {'max_depth': 6, 'n_estimators': 66, 'min_samples_split': 6, 'min_samples_leaf': 26, 'criterion': 'entropy'}. Best is trial 0 with value: 0.940883872202028.\n",
            "[I 2025-09-13 07:20:39,746] Trial 2 finished with value: 0.8907595178878898 and parameters: {'max_depth': 9, 'n_estimators': 43, 'min_samples_split': 12, 'min_samples_leaf': 66, 'criterion': 'entropy'}. Best is trial 0 with value: 0.940883872202028.\n",
            "[I 2025-09-13 07:20:40,028] Trial 3 finished with value: 0.8850200880045915 and parameters: {'max_depth': 1, 'n_estimators': 40, 'min_samples_split': 24, 'min_samples_leaf': 5, 'criterion': 'gini'}. Best is trial 0 with value: 0.940883872202028.\n",
            "[I 2025-09-13 07:20:40,309] Trial 4 finished with value: 0.89018557489956 and parameters: {'max_depth': 6, 'n_estimators': 13, 'min_samples_split': 8, 'min_samples_leaf': 44, 'criterion': 'gini'}. Best is trial 0 with value: 0.940883872202028.\n",
            "[I 2025-09-13 07:20:40,372] Trial 5 finished with value: 0.8850200880045915 and parameters: {'max_depth': 1, 'n_estimators': 9, 'min_samples_split': 3, 'min_samples_leaf': 8, 'criterion': 'log_loss'}. Best is trial 0 with value: 0.940883872202028.\n",
            "[I 2025-09-13 07:20:40,478] Trial 6 finished with value: 0.8861679739812512 and parameters: {'max_depth': 4, 'n_estimators': 7, 'min_samples_split': 2, 'min_samples_leaf': 9, 'criterion': 'log_loss'}. Best is trial 0 with value: 0.940883872202028.\n",
            "[I 2025-09-13 07:20:40,521] Trial 7 finished with value: 0.8850200880045915 and parameters: {'max_depth': 1, 'n_estimators': 5, 'min_samples_split': 15, 'min_samples_leaf': 50, 'criterion': 'log_loss'}. Best is trial 0 with value: 0.940883872202028.\n",
            "[I 2025-09-13 07:20:41,076] Trial 8 finished with value: 0.8850200880045915 and parameters: {'max_depth': 1, 'n_estimators': 127, 'min_samples_split': 2, 'min_samples_leaf': 26, 'criterion': 'log_loss'}. Best is trial 0 with value: 0.940883872202028.\n",
            "[I 2025-09-13 07:20:41,120] Trial 9 finished with value: 0.8850200880045915 and parameters: {'max_depth': 1, 'n_estimators': 5, 'min_samples_split': 50, 'min_samples_leaf': 12, 'criterion': 'entropy'}. Best is trial 0 with value: 0.940883872202028.\n",
            "[I 2025-09-13 07:20:41,176] Trial 10 finished with value: 0.8976468337478477 and parameters: {'max_depth': 19, 'n_estimators': 1, 'min_samples_split': 73, 'min_samples_leaf': 1, 'criterion': 'entropy'}. Best is trial 0 with value: 0.940883872202028.\n",
            "[I 2025-09-13 07:20:41,228] Trial 11 finished with value: 0.8894203175817869 and parameters: {'max_depth': 28, 'n_estimators': 1, 'min_samples_split': 94, 'min_samples_leaf': 1, 'criterion': 'entropy'}. Best is trial 0 with value: 0.940883872202028.\n",
            "[I 2025-09-13 07:20:41,289] Trial 12 finished with value: 0.9177348383393916 and parameters: {'max_depth': 21, 'n_estimators': 1, 'min_samples_split': 5, 'min_samples_leaf': 1, 'criterion': 'entropy'}. Best is trial 0 with value: 0.940883872202028.\n",
            "[I 2025-09-13 07:20:41,372] Trial 13 finished with value: 0.920795867610484 and parameters: {'max_depth': 13, 'n_estimators': 2, 'min_samples_split': 4, 'min_samples_leaf': 2, 'criterion': 'entropy'}. Best is trial 0 with value: 0.940883872202028.\n",
            "[I 2025-09-13 07:20:41,473] Trial 14 finished with value: 0.9251960971876794 and parameters: {'max_depth': 13, 'n_estimators': 2, 'min_samples_split': 4, 'min_samples_leaf': 3, 'criterion': 'entropy'}. Best is trial 0 with value: 0.940883872202028.\n",
            "[I 2025-09-13 07:20:41,521] Trial 15 finished with value: 0.8850200880045915 and parameters: {'max_depth': 2, 'n_estimators': 3, 'min_samples_split': 3, 'min_samples_leaf': 3, 'criterion': 'entropy'}. Best is trial 0 with value: 0.940883872202028.\n",
            "[I 2025-09-13 07:20:42,042] Trial 16 finished with value: 0.9311268414004209 and parameters: {'max_depth': 11, 'n_estimators': 21, 'min_samples_split': 10, 'min_samples_leaf': 2, 'criterion': 'gini'}. Best is trial 0 with value: 0.940883872202028.\n",
            "[I 2025-09-13 07:20:42,172] Trial 17 finished with value: 0.8850200880045915 and parameters: {'max_depth': 2, 'n_estimators': 17, 'min_samples_split': 26, 'min_samples_leaf': 2, 'criterion': 'gini'}. Best is trial 0 with value: 0.940883872202028.\n",
            "[I 2025-09-13 07:20:42,757] Trial 18 finished with value: 0.9294050124354314 and parameters: {'max_depth': 11, 'n_estimators': 23, 'min_samples_split': 9, 'min_samples_leaf': 2, 'criterion': 'gini'}. Best is trial 0 with value: 0.940883872202028.\n",
            "[I 2025-09-13 07:20:45,276] Trial 19 finished with value: 0.8997512913717237 and parameters: {'max_depth': 7, 'n_estimators': 160, 'min_samples_split': 26, 'min_samples_leaf': 4, 'criterion': 'gini'}. Best is trial 0 with value: 0.940883872202028.\n",
            "[I 2025-09-13 07:20:45,481] Trial 20 finished with value: 0.8850200880045915 and parameters: {'max_depth': 3, 'n_estimators': 22, 'min_samples_split': 16, 'min_samples_leaf': 1, 'criterion': 'gini'}. Best is trial 0 with value: 0.940883872202028.\n",
            "[I 2025-09-13 07:20:46,057] Trial 21 finished with value: 0.9345704993303998 and parameters: {'max_depth': 11, 'n_estimators': 23, 'min_samples_split': 9, 'min_samples_leaf': 2, 'criterion': 'gini'}. Best is trial 0 with value: 0.940883872202028.\n",
            "[I 2025-09-13 07:20:47,019] Trial 22 finished with value: 0.9441362158025636 and parameters: {'max_depth': 17, 'n_estimators': 33, 'min_samples_split': 7, 'min_samples_leaf': 2, 'criterion': 'gini'}. Best is trial 22 with value: 0.9441362158025636.\n",
            "[I 2025-09-13 07:20:48,932] Trial 23 finished with value: 0.9355270709776162 and parameters: {'max_depth': 29, 'n_estimators': 70, 'min_samples_split': 7, 'min_samples_leaf': 5, 'criterion': 'gini'}. Best is trial 22 with value: 0.9441362158025636.\n",
            "[I 2025-09-13 07:20:50,787] Trial 24 finished with value: 0.9160130093744021 and parameters: {'max_depth': 28, 'n_estimators': 71, 'min_samples_split': 6, 'min_samples_leaf': 14, 'criterion': 'gini'}. Best is trial 22 with value: 0.9441362158025636.\n",
            "[I 2025-09-13 07:20:53,688] Trial 25 finished with value: 0.9345704993303998 and parameters: {'max_depth': 18, 'n_estimators': 81, 'min_samples_split': 3, 'min_samples_leaf': 5, 'criterion': 'gini'}. Best is trial 22 with value: 0.9441362158025636.\n",
            "[I 2025-09-13 07:20:54,842] Trial 26 finished with value: 0.9416491295198011 and parameters: {'max_depth': 19, 'n_estimators': 40, 'min_samples_split': 7, 'min_samples_leaf': 3, 'criterion': 'gini'}. Best is trial 22 with value: 0.9441362158025636.\n",
            "[I 2025-09-13 07:20:55,977] Trial 27 finished with value: 0.9343791850009566 and parameters: {'max_depth': 16, 'n_estimators': 43, 'min_samples_split': 18, 'min_samples_leaf': 3, 'criterion': 'gini'}. Best is trial 22 with value: 0.9441362158025636.\n",
            "[I 2025-09-13 07:20:56,225] Trial 28 finished with value: 0.9098909508322174 and parameters: {'max_depth': 8, 'n_estimators': 11, 'min_samples_split': 4, 'min_samples_leaf': 1, 'criterion': 'log_loss'}. Best is trial 22 with value: 0.9441362158025636.\n",
            "[I 2025-09-13 07:20:56,670] Trial 29 finished with value: 0.8951597474650851 and parameters: {'max_depth': 6, 'n_estimators': 31, 'min_samples_split': 5, 'min_samples_leaf': 4, 'criterion': 'gini'}. Best is trial 22 with value: 0.9441362158025636.\n",
            "[I 2025-09-13 07:20:56,767] Trial 30 finished with value: 0.8859766596518079 and parameters: {'max_depth': 4, 'n_estimators': 7, 'min_samples_split': 12, 'min_samples_leaf': 20, 'criterion': 'entropy'}. Best is trial 22 with value: 0.9441362158025636.\n",
            "[I 2025-09-13 07:20:59,866] Trial 31 finished with value: 0.9357183853070595 and parameters: {'max_depth': 23, 'n_estimators': 114, 'min_samples_split': 7, 'min_samples_leaf': 5, 'criterion': 'gini'}. Best is trial 22 with value: 0.9441362158025636.\n",
            "[I 2025-09-13 07:21:03,322] Trial 32 finished with value: 0.9309355270709776 and parameters: {'max_depth': 20, 'n_estimators': 125, 'min_samples_split': 6, 'min_samples_leaf': 7, 'criterion': 'gini'}. Best is trial 22 with value: 0.9441362158025636.\n",
            "[I 2025-09-13 07:21:06,639] Trial 33 finished with value: 0.9416491295198011 and parameters: {'max_depth': 15, 'n_estimators': 97, 'min_samples_split': 7, 'min_samples_leaf': 3, 'criterion': 'gini'}. Best is trial 22 with value: 0.9441362158025636.\n",
            "[I 2025-09-13 07:21:07,962] Trial 34 finished with value: 0.9370575856131624 and parameters: {'max_depth': 14, 'n_estimators': 50, 'min_samples_split': 12, 'min_samples_leaf': 3, 'criterion': 'gini'}. Best is trial 22 with value: 0.9441362158025636.\n",
            "[I 2025-09-13 07:21:08,537] Trial 35 finished with value: 0.888081117275684 and parameters: {'max_depth': 9, 'n_estimators': 34, 'min_samples_split': 5, 'min_samples_leaf': 93, 'criterion': 'gini'}. Best is trial 22 with value: 0.9441362158025636.\n",
            "[I 2025-09-13 07:21:09,211] Trial 36 finished with value: 0.8859766596518079 and parameters: {'max_depth': 5, 'n_estimators': 55, 'min_samples_split': 8, 'min_samples_leaf': 7, 'criterion': 'gini'}. Best is trial 22 with value: 0.9441362158025636.\n",
            "[I 2025-09-13 07:21:09,601] Trial 37 finished with value: 0.938205471589822 and parameters: {'max_depth': 15, 'n_estimators': 14, 'min_samples_split': 20, 'min_samples_leaf': 2, 'criterion': 'entropy'}. Best is trial 22 with value: 0.9441362158025636.\n",
            "[I 2025-09-13 07:21:16,062] Trial 38 finished with value: 0.9393533575664818 and parameters: {'max_depth': 23, 'n_estimators': 194, 'min_samples_split': 11, 'min_samples_leaf': 4, 'criterion': 'log_loss'}. Best is trial 22 with value: 0.9441362158025636.\n",
            "[I 2025-09-13 07:21:16,325] Trial 39 finished with value: 0.9194566673043811 and parameters: {'max_depth': 9, 'n_estimators': 8, 'min_samples_split': 3, 'min_samples_leaf': 3, 'criterion': 'gini'}. Best is trial 22 with value: 0.9441362158025636.\n",
            "[I 2025-09-13 07:21:16,548] Trial 40 finished with value: 0.9202219246221542 and parameters: {'max_depth': 17, 'n_estimators': 5, 'min_samples_split': 14, 'min_samples_leaf': 9, 'criterion': 'log_loss'}. Best is trial 22 with value: 0.9441362158025636.\n",
            "[I 2025-09-13 07:21:21,962] Trial 41 finished with value: 0.9351444423187296 and parameters: {'max_depth': 25, 'n_estimators': 187, 'min_samples_split': 11, 'min_samples_leaf': 6, 'criterion': 'log_loss'}. Best is trial 22 with value: 0.9441362158025636.\n",
            "[I 2025-09-13 07:21:24,697] Trial 42 finished with value: 0.9412665008609145 and parameters: {'max_depth': 23, 'n_estimators': 97, 'min_samples_split': 6, 'min_samples_leaf': 4, 'criterion': 'log_loss'}. Best is trial 22 with value: 0.9441362158025636.\n",
            "[I 2025-09-13 07:21:27,109] Trial 43 finished with value: 0.9343791850009566 and parameters: {'max_depth': 12, 'n_estimators': 97, 'min_samples_split': 6, 'min_samples_leaf': 4, 'criterion': 'log_loss'}. Best is trial 22 with value: 0.9441362158025636.\n",
            "[I 2025-09-13 07:21:28,113] Trial 44 finished with value: 0.9424143868375742 and parameters: {'max_depth': 18, 'n_estimators': 32, 'min_samples_split': 4, 'min_samples_leaf': 3, 'criterion': 'log_loss'}. Best is trial 22 with value: 0.9441362158025636.\n",
            "[I 2025-09-13 07:21:29,651] Trial 45 finished with value: 0.9439449014731204 and parameters: {'max_depth': 18, 'n_estimators': 33, 'min_samples_split': 4, 'min_samples_leaf': 3, 'criterion': 'log_loss'}. Best is trial 22 with value: 0.9441362158025636.\n",
            "[I 2025-09-13 07:21:31,071] Trial 46 finished with value: 0.9240482112110197 and parameters: {'max_depth': 18, 'n_estimators': 35, 'min_samples_split': 2, 'min_samples_leaf': 10, 'criterion': 'log_loss'}. Best is trial 22 with value: 0.9441362158025636.\n",
            "[I 2025-09-13 07:21:33,254] Trial 47 finished with value: 0.9412665008609145 and parameters: {'max_depth': 15, 'n_estimators': 53, 'min_samples_split': 4, 'min_samples_leaf': 3, 'criterion': 'log_loss'}. Best is trial 22 with value: 0.9441362158025636.\n",
            "[I 2025-09-13 07:21:34,052] Trial 48 finished with value: 0.9366749569542758 and parameters: {'max_depth': 20, 'n_estimators': 29, 'min_samples_split': 7, 'min_samples_leaf': 6, 'criterion': 'log_loss'}. Best is trial 22 with value: 0.9441362158025636.\n",
            "[I 2025-09-13 07:21:35,507] Trial 49 finished with value: 0.9498756456858619 and parameters: {'max_depth': 30, 'n_estimators': 41, 'min_samples_split': 3, 'min_samples_leaf': 2, 'criterion': 'log_loss'}. Best is trial 49 with value: 0.9498756456858619.\n",
            "[I 2025-09-13 07:21:35,971] Trial 50 finished with value: 0.9535106179452841 and parameters: {'max_depth': 30, 'n_estimators': 15, 'min_samples_split': 2, 'min_samples_leaf': 2, 'criterion': 'log_loss'}. Best is trial 50 with value: 0.9535106179452841.\n",
            "[I 2025-09-13 07:21:36,818] Trial 51 finished with value: 0.9535106179452841 and parameters: {'max_depth': 29, 'n_estimators': 28, 'min_samples_split': 2, 'min_samples_leaf': 2, 'criterion': 'log_loss'}. Best is trial 50 with value: 0.9535106179452841.\n",
            "[I 2025-09-13 07:21:37,268] Trial 52 finished with value: 0.9498756456858619 and parameters: {'max_depth': 29, 'n_estimators': 14, 'min_samples_split': 2, 'min_samples_leaf': 2, 'criterion': 'log_loss'}. Best is trial 50 with value: 0.9535106179452841.\n",
            "[I 2025-09-13 07:21:37,769] Trial 53 finished with value: 0.9496843313564186 and parameters: {'max_depth': 30, 'n_estimators': 16, 'min_samples_split': 2, 'min_samples_leaf': 2, 'criterion': 'log_loss'}. Best is trial 50 with value: 0.9535106179452841.\n",
            "[I 2025-09-13 07:21:38,288] Trial 54 finished with value: 0.949301702697532 and parameters: {'max_depth': 30, 'n_estimators': 16, 'min_samples_split': 2, 'min_samples_leaf': 2, 'criterion': 'log_loss'}. Best is trial 50 with value: 0.9535106179452841.\n",
            "[I 2025-09-13 07:21:38,796] Trial 55 finished with value: 0.9531279892863975 and parameters: {'max_depth': 29, 'n_estimators': 16, 'min_samples_split': 2, 'min_samples_leaf': 1, 'criterion': 'log_loss'}. Best is trial 50 with value: 0.9535106179452841.\n",
            "[I 2025-09-13 07:21:39,121] Trial 56 finished with value: 0.9504495886741917 and parameters: {'max_depth': 26, 'n_estimators': 10, 'min_samples_split': 2, 'min_samples_leaf': 1, 'criterion': 'log_loss'}. Best is trial 50 with value: 0.9535106179452841.\n",
            "[I 2025-09-13 07:21:39,501] Trial 57 finished with value: 0.9538932466041706 and parameters: {'max_depth': 26, 'n_estimators': 11, 'min_samples_split': 3, 'min_samples_leaf': 1, 'criterion': 'log_loss'}. Best is trial 57 with value: 0.9538932466041706.\n",
            "[I 2025-09-13 07:21:39,838] Trial 58 finished with value: 0.9537019322747273 and parameters: {'max_depth': 25, 'n_estimators': 10, 'min_samples_split': 3, 'min_samples_leaf': 1, 'criterion': 'log_loss'}. Best is trial 57 with value: 0.9538932466041706.\n",
            "[I 2025-09-13 07:21:40,200] Trial 59 finished with value: 0.9531279892863975 and parameters: {'max_depth': 25, 'n_estimators': 11, 'min_samples_split': 3, 'min_samples_leaf': 1, 'criterion': 'log_loss'}. Best is trial 57 with value: 0.9538932466041706.\n",
            "[I 2025-09-13 07:21:40,423] Trial 60 finished with value: 0.950640903003635 and parameters: {'max_depth': 23, 'n_estimators': 6, 'min_samples_split': 3, 'min_samples_leaf': 1, 'criterion': 'log_loss'}. Best is trial 57 with value: 0.9538932466041706.\n",
            "[I 2025-09-13 07:21:40,557] Trial 61 finished with value: 0.9209871819399273 and parameters: {'max_depth': 24, 'n_estimators': 4, 'min_samples_split': 33, 'min_samples_leaf': 1, 'criterion': 'log_loss'}. Best is trial 57 with value: 0.9538932466041706.\n",
            "[I 2025-09-13 07:21:40,770] Trial 62 finished with value: 0.9470059307442127 and parameters: {'max_depth': 22, 'n_estimators': 6, 'min_samples_split': 3, 'min_samples_leaf': 1, 'criterion': 'log_loss'}. Best is trial 57 with value: 0.9538932466041706.\n",
            "[I 2025-09-13 07:21:41,133] Trial 63 finished with value: 0.9498756456858619 and parameters: {'max_depth': 25, 'n_estimators': 11, 'min_samples_split': 3, 'min_samples_leaf': 1, 'criterion': 'log_loss'}. Best is trial 57 with value: 0.9538932466041706.\n",
            "[I 2025-09-13 07:21:41,360] Trial 64 finished with value: 0.9014731203367132 and parameters: {'max_depth': 21, 'n_estimators': 9, 'min_samples_split': 3, 'min_samples_leaf': 41, 'criterion': 'log_loss'}. Best is trial 57 with value: 0.9538932466041706.\n",
            "[I 2025-09-13 07:21:41,980] Trial 65 finished with value: 0.9594413621580257 and parameters: {'max_depth': 26, 'n_estimators': 20, 'min_samples_split': 2, 'min_samples_leaf': 1, 'criterion': 'log_loss'}. Best is trial 65 with value: 0.9594413621580257.\n",
            "[I 2025-09-13 07:21:42,670] Trial 66 finished with value: 0.9546585039219437 and parameters: {'max_depth': 26, 'n_estimators': 19, 'min_samples_split': 2, 'min_samples_leaf': 1, 'criterion': 'log_loss'}. Best is trial 65 with value: 0.9594413621580257.\n",
            "[I 2025-09-13 07:21:42,868] Trial 67 finished with value: 0.8850200880045915 and parameters: {'max_depth': 2, 'n_estimators': 18, 'min_samples_split': 2, 'min_samples_leaf': 1, 'criterion': 'log_loss'}. Best is trial 65 with value: 0.9594413621580257.\n",
            "[I 2025-09-13 07:21:43,613] Trial 68 finished with value: 0.9238568968815765 and parameters: {'max_depth': 27, 'n_estimators': 20, 'min_samples_split': 44, 'min_samples_leaf': 1, 'criterion': 'log_loss'}. Best is trial 65 with value: 0.9594413621580257.\n",
            "[I 2025-09-13 07:21:44,491] Trial 69 finished with value: 0.9091256935144443 and parameters: {'max_depth': 20, 'n_estimators': 25, 'min_samples_split': 2, 'min_samples_leaf': 20, 'criterion': 'log_loss'}. Best is trial 65 with value: 0.9594413621580257.\n",
            "[I 2025-09-13 07:21:45,123] Trial 70 finished with value: 0.9592500478285824 and parameters: {'max_depth': 26, 'n_estimators': 14, 'min_samples_split': 2, 'min_samples_leaf': 1, 'criterion': 'log_loss'}. Best is trial 65 with value: 0.9594413621580257.\n",
            "[I 2025-09-13 07:21:45,562] Trial 71 finished with value: 0.9586761048402526 and parameters: {'max_depth': 26, 'n_estimators': 13, 'min_samples_split': 2, 'min_samples_leaf': 1, 'criterion': 'log_loss'}. Best is trial 65 with value: 0.9594413621580257.\n",
            "[I 2025-09-13 07:21:45,972] Trial 72 finished with value: 0.9573369045341497 and parameters: {'max_depth': 26, 'n_estimators': 13, 'min_samples_split': 2, 'min_samples_leaf': 1, 'criterion': 'log_loss'}. Best is trial 65 with value: 0.9594413621580257.\n",
            "[I 2025-09-13 07:21:46,369] Trial 73 finished with value: 0.9529366749569542 and parameters: {'max_depth': 26, 'n_estimators': 13, 'min_samples_split': 2, 'min_samples_leaf': 1, 'criterion': 'log_loss'}. Best is trial 65 with value: 0.9594413621580257.\n",
            "[I 2025-09-13 07:21:46,629] Trial 74 finished with value: 0.9437535871436771 and parameters: {'max_depth': 13, 'n_estimators': 8, 'min_samples_split': 5, 'min_samples_leaf': 1, 'criterion': 'log_loss'}. Best is trial 65 with value: 0.9594413621580257.\n",
            "[I 2025-09-13 07:21:46,828] Trial 75 finished with value: 0.8850200880045915 and parameters: {'max_depth': 3, 'n_estimators': 20, 'min_samples_split': 60, 'min_samples_leaf': 1, 'criterion': 'log_loss'}. Best is trial 65 with value: 0.9594413621580257.\n",
            "[I 2025-09-13 07:21:47,219] Trial 76 finished with value: 0.9525540462980677 and parameters: {'max_depth': 21, 'n_estimators': 12, 'min_samples_split': 3, 'min_samples_leaf': 1, 'criterion': 'log_loss'}. Best is trial 65 with value: 0.9594413621580257.\n",
            "[I 2025-09-13 07:21:47,440] Trial 77 finished with value: 0.8987947197245074 and parameters: {'max_depth': 16, 'n_estimators': 9, 'min_samples_split': 2, 'min_samples_leaf': 41, 'criterion': 'log_loss'}. Best is trial 65 with value: 0.9594413621580257.\n",
            "[I 2025-09-13 07:21:48,007] Trial 78 finished with value: 0.9003252343600535 and parameters: {'max_depth': 26, 'n_estimators': 25, 'min_samples_split': 4, 'min_samples_leaf': 32, 'criterion': 'entropy'}. Best is trial 65 with value: 0.9594413621580257.\n",
            "[I 2025-09-13 07:21:48,253] Trial 79 finished with value: 0.8859766596518079 and parameters: {'max_depth': 22, 'n_estimators': 13, 'min_samples_split': 2, 'min_samples_leaf': 99, 'criterion': 'log_loss'}. Best is trial 65 with value: 0.9594413621580257.\n",
            "[I 2025-09-13 07:21:48,717] Trial 80 finished with value: 0.9188827243160512 and parameters: {'max_depth': 20, 'n_estimators': 18, 'min_samples_split': 3, 'min_samples_leaf': 13, 'criterion': 'log_loss'}. Best is trial 65 with value: 0.9594413621580257.\n",
            "[I 2025-09-13 07:21:49,556] Trial 81 finished with value: 0.9500669600153051 and parameters: {'max_depth': 27, 'n_estimators': 28, 'min_samples_split': 2, 'min_samples_leaf': 2, 'criterion': 'log_loss'}. Best is trial 65 with value: 0.9594413621580257.\n",
            "[I 2025-09-13 07:21:50,020] Trial 82 finished with value: 0.9559977042280466 and parameters: {'max_depth': 24, 'n_estimators': 14, 'min_samples_split': 2, 'min_samples_leaf': 1, 'criterion': 'log_loss'}. Best is trial 65 with value: 0.9594413621580257.\n",
            "[I 2025-09-13 07:21:50,250] Trial 83 finished with value: 0.9462406734264397 and parameters: {'max_depth': 24, 'n_estimators': 7, 'min_samples_split': 4, 'min_samples_leaf': 1, 'criterion': 'log_loss'}. Best is trial 65 with value: 0.9594413621580257.\n",
            "[I 2025-09-13 07:21:50,611] Trial 84 finished with value: 0.9121867227855366 and parameters: {'max_depth': 19, 'n_estimators': 14, 'min_samples_split': 2, 'min_samples_leaf': 18, 'criterion': 'log_loss'}. Best is trial 65 with value: 0.9594413621580257.\n",
            "[I 2025-09-13 07:21:50,950] Trial 85 finished with value: 0.9594413621580257 and parameters: {'max_depth': 22, 'n_estimators': 10, 'min_samples_split': 2, 'min_samples_leaf': 1, 'criterion': 'log_loss'}. Best is trial 65 with value: 0.9594413621580257.\n",
            "[I 2025-09-13 07:21:51,056] Trial 86 finished with value: 0.8989860340539506 and parameters: {'max_depth': 16, 'n_estimators': 4, 'min_samples_split': 5, 'min_samples_leaf': 56, 'criterion': 'log_loss'}. Best is trial 65 with value: 0.9594413621580257.\n",
            "[I 2025-09-13 07:21:51,382] Trial 87 finished with value: 0.9542758752630572 and parameters: {'max_depth': 22, 'n_estimators': 10, 'min_samples_split': 3, 'min_samples_leaf': 1, 'criterion': 'log_loss'}. Best is trial 65 with value: 0.9594413621580257.\n",
            "[I 2025-09-13 07:21:51,704] Trial 88 finished with value: 0.9261526688348958 and parameters: {'max_depth': 14, 'n_estimators': 12, 'min_samples_split': 30, 'min_samples_leaf': 1, 'criterion': 'entropy'}. Best is trial 65 with value: 0.9594413621580257.\n",
            "[I 2025-09-13 07:21:51,937] Trial 89 finished with value: 0.9137172374210828 and parameters: {'max_depth': 22, 'n_estimators': 8, 'min_samples_split': 3, 'min_samples_leaf': 15, 'criterion': 'log_loss'}. Best is trial 65 with value: 0.9594413621580257.\n",
            "[I 2025-09-13 07:21:52,438] Trial 90 finished with value: 0.9217524392577005 and parameters: {'max_depth': 17, 'n_estimators': 19, 'min_samples_split': 2, 'min_samples_leaf': 10, 'criterion': 'log_loss'}. Best is trial 65 with value: 0.9594413621580257.\n",
            "[I 2025-09-13 07:21:52,775] Trial 91 finished with value: 0.9533193036158408 and parameters: {'max_depth': 24, 'n_estimators': 10, 'min_samples_split': 3, 'min_samples_leaf': 1, 'criterion': 'log_loss'}. Best is trial 65 with value: 0.9594413621580257.\n",
            "[I 2025-09-13 07:21:52,971] Trial 92 finished with value: 0.9326573560359671 and parameters: {'max_depth': 27, 'n_estimators': 6, 'min_samples_split': 22, 'min_samples_leaf': 1, 'criterion': 'log_loss'}. Best is trial 65 with value: 0.9594413621580257.\n",
            "[I 2025-09-13 07:21:53,318] Trial 93 finished with value: 0.9554237612397168 and parameters: {'max_depth': 19, 'n_estimators': 10, 'min_samples_split': 2, 'min_samples_leaf': 1, 'criterion': 'log_loss'}. Best is trial 65 with value: 0.9594413621580257.\n",
            "[I 2025-09-13 07:21:53,618] Trial 94 finished with value: 0.9070212358905682 and parameters: {'max_depth': 19, 'n_estimators': 12, 'min_samples_split': 82, 'min_samples_leaf': 1, 'criterion': 'log_loss'}. Best is trial 65 with value: 0.9594413621580257.\n",
            "[I 2025-09-13 07:21:53,925] Trial 95 finished with value: 0.9470059307442127 and parameters: {'max_depth': 22, 'n_estimators': 9, 'min_samples_split': 2, 'min_samples_leaf': 1, 'criterion': 'log_loss'}. Best is trial 65 with value: 0.9594413621580257.\n",
            "[I 2025-09-13 07:21:54,621] Trial 96 finished with value: 0.9533193036158408 and parameters: {'max_depth': 17, 'n_estimators': 23, 'min_samples_split': 2, 'min_samples_leaf': 1, 'criterion': 'log_loss'}. Best is trial 65 with value: 0.9594413621580257.\n",
            "[I 2025-09-13 07:21:55,109] Trial 97 finished with value: 0.9433709584847905 and parameters: {'max_depth': 21, 'n_estimators': 15, 'min_samples_split': 15, 'min_samples_leaf': 1, 'criterion': 'log_loss'}. Best is trial 65 with value: 0.9594413621580257.\n",
            "[I 2025-09-13 07:21:55,458] Trial 98 finished with value: 0.9473885594030993 and parameters: {'max_depth': 27, 'n_estimators': 7, 'min_samples_split': 4, 'min_samples_leaf': 1, 'criterion': 'log_loss'}. Best is trial 65 with value: 0.9594413621580257.\n",
            "[I 2025-09-13 07:21:56,033] Trial 99 finished with value: 0.911038836808877 and parameters: {'max_depth': 10, 'n_estimators': 17, 'min_samples_split': 8, 'min_samples_leaf': 11, 'criterion': 'log_loss'}. Best is trial 65 with value: 0.9594413621580257.\n"
          ]
        }
      ]
    },
    {
      "cell_type": "markdown",
      "source": [
        "# Best Parameter"
      ],
      "metadata": {
        "id": "MGGdtszFFw5R"
      }
    },
    {
      "cell_type": "code",
      "source": [
        "study.best_params"
      ],
      "metadata": {
        "id": "hupy5jwMCzNw",
        "colab": {
          "base_uri": "https://localhost:8080/"
        },
        "outputId": "e24c3bcf-c2d1-479a-9228-20925373c4c7"
      },
      "execution_count": 18,
      "outputs": [
        {
          "output_type": "execute_result",
          "data": {
            "text/plain": [
              "{'max_depth': 26,\n",
              " 'n_estimators': 20,\n",
              " 'min_samples_split': 2,\n",
              " 'min_samples_leaf': 1,\n",
              " 'criterion': 'log_loss'}"
            ]
          },
          "metadata": {},
          "execution_count": 18
        }
      ]
    },
    {
      "cell_type": "markdown",
      "source": [
        "**Best values (accuracy)**"
      ],
      "metadata": {
        "id": "Z8E-4KfpF5bX"
      }
    },
    {
      "cell_type": "code",
      "source": [
        "study.best_value"
      ],
      "metadata": {
        "id": "cNZ5QCfrs0w8",
        "colab": {
          "base_uri": "https://localhost:8080/"
        },
        "outputId": "bc1ee17d-1deb-40c7-cab8-cd63739088d2"
      },
      "execution_count": 19,
      "outputs": [
        {
          "output_type": "execute_result",
          "data": {
            "text/plain": [
              "0.9594413621580257"
            ]
          },
          "metadata": {},
          "execution_count": 19
        }
      ]
    },
    {
      "cell_type": "code",
      "source": [
        "optuna.visualization.plot_param_importances(study)"
      ],
      "metadata": {
        "id": "vAPHYSOLGAG3"
      },
      "execution_count": null,
      "outputs": []
    },
    {
      "cell_type": "code",
      "metadata": {
        "id": "ad565d98",
        "colab": {
          "base_uri": "https://localhost:8080/",
          "height": 472
        },
        "outputId": "cb5ba6e1-c1c2-4a83-95c8-576a4a06ee81"
      },
      "source": [
        "from sklearn.metrics import roc_curve, auc\n",
        "import matplotlib.pyplot as plt\n",
        "\n",
        "# Train a RandomForestClassifier with the best parameters\n",
        "best_params = study.best_params\n",
        "best_model = RandomForestClassifier(**best_params)\n",
        "best_model.fit(x_train, y_train)\n",
        "\n",
        "# Predict probabilities on the test set\n",
        "y_pred_proba = best_model.predict_proba(x_test)[:, 1]\n",
        "\n",
        "# Calculate ROC curve and AUC\n",
        "fpr, tpr, thresholds = roc_curve(y_test, y_pred_proba)\n",
        "roc_auc = auc(fpr, tpr)\n",
        "\n",
        "# Plot the ROC curve\n",
        "plt.figure()\n",
        "plt.plot(fpr, tpr, color='darkorange', lw=2, label='ROC curve (area = %0.2f)' % roc_auc)\n",
        "plt.plot([0, 1], [0, 1], color='navy', lw=2, linestyle='--')\n",
        "plt.xlim([0.0, 1.0])\n",
        "plt.ylim([0.0, 1.05])\n",
        "plt.xlabel('False Positive Rate')\n",
        "plt.ylabel('True Positive Rate')\n",
        "plt.title('Receiver Operating Characteristic (ROC) Curve')\n",
        "plt.legend(loc=\"lower right\")\n",
        "plt.show()"
      ],
      "execution_count": 20,
      "outputs": [
        {
          "output_type": "display_data",
          "data": {
            "text/plain": [
              "<Figure size 640x480 with 1 Axes>"
            ],
            "image/png": "[encoded data removed]"
          },
          "metadata": {}
        }
      ]
    },
    {
      "cell_type": "code",
      "source": [],
      "metadata": {
        "id": "MDWJrWcAHKqK"
      },
      "execution_count": null,
      "outputs": []
    },
    {
      "cell_type": "code",
      "metadata": {
        "id": "763e5bd4",
        "colab": {
          "base_uri": "https://localhost:8080/",
          "height": 472
        },
        "outputId": "4d4ca4d6-ee28-4ad8-ee15-2faa4a552ab0"
      },
      "source": [
        "from sklearn.metrics import precision_recall_curve, auc\n",
        "\n",
        "# Calculate precision and recall\n",
        "precision, recall, _ = precision_recall_curve(y_test, y_pred_proba)\n",
        "\n",
        "# Calculate the area under the precision-recall curve\n",
        "pr_auc = auc(recall, precision)\n",
        "\n",
        "# Plot the Precision-Recall curve\n",
        "plt.figure()\n",
        "plt.plot(recall, precision, color='darkorange', lw=2, label='Precision-Recall curve (area = %0.2f)' % pr_auc)\n",
        "plt.xlim([0.0, 1.0])\n",
        "plt.ylim([0.0, 1.05])\n",
        "plt.xlabel('Recall')\n",
        "plt.ylabel('Precision')\n",
        "plt.title('Precision-Recall Curve')\n",
        "plt.legend(loc=\"lower right\")\n",
        "plt.show()"
      ],
      "execution_count": 21,
      "outputs": [
        {
          "output_type": "display_data",
          "data": {
            "text/plain": [
              "<Figure size 640x480 with 1 Axes>"
            ],
            "image/png": "[encoded data removed]"
          },
          "metadata": {}
        }
      ]
    },
    {
      "cell_type": "markdown",
      "source": [
        "**Trying with model XGBoost**"
      ],
      "metadata": {
        "id": "_FNG4aIw-mtz"
      }
    },
    {
      "cell_type": "code",
      "source": [
        "!pip install xgboost"
      ],
      "metadata": {
        "colab": {
          "base_uri": "https://localhost:8080/"
        },
        "id": "OtWv82v2_cSX",
        "outputId": "68ff51a0-5261-4cfd-8eb7-36abd0c6c35d"
      },
      "execution_count": 25,
      "outputs": [
        {
          "output_type": "stream",
          "name": "stdout",
          "text": [
            "Requirement already satisfied: xgboost in /usr/local/lib/python3.12/dist-packages (3.0.4)\n",
            "Requirement already satisfied: numpy in /usr/local/lib/python3.12/dist-packages (from xgboost) (2.0.2)\n",
            "Requirement already satisfied: nvidia-nccl-cu12 in /usr/local/lib/python3.12/dist-packages (from xgboost) (2.27.3)\n",
            "Requirement already satisfied: scipy in /usr/local/lib/python3.12/dist-packages (from xgboost) (1.16.1)\n"
          ]
        }
      ]
    },
    {
      "cell_type": "code",
      "source": [
        "from xgboost import XGBClassifier"
      ],
      "metadata": {
        "id": "I5fA9LDT--Xc"
      },
      "execution_count": 26,
      "outputs": []
    },
    {
      "cell_type": "code",
      "metadata": {
        "id": "2ead0ee8"
      },
      "source": [
        "def objective_xgb(trial):\n",
        "  n_estimators=trial.suggest_int('n_estimators', 1, 200, log=True)\n",
        "  max_depth=trial.suggest_int('max_depth', 1, 30, log=True)\n",
        "  learning_rate=trial.suggest_float('learning_rate', 0.001, 1.0, log=True)\n",
        "  subsample=trial.suggest_float('subsample', 0.1, 1.0, log=True)\n",
        "  colsample_bytree=trial.suggest_float('colsample_bytree', 0.1, 1.0, log=True)\n",
        "  min_child_weight=trial.suggest_int('min_child_weight', 1, 100, log=True)\n",
        "  reg_alpha=trial.suggest_float('reg_alpha', 0.0, 1.0)\n",
        "  reg_lambda=trial.suggest_float('reg_lambda', 0.0, 1.0)\n",
        "  model=XGBClassifier(n_estimators=n_estimators, max_depth=max_depth, learning_rate=learning_rate, subsample=subsample, colsample_bytree=colsample_bytree, min_child_weight=min_child_weight, reg_alpha=reg_alpha, reg_lambda=reg_lambda)\n",
        "  model.fit(x_train, y_train)\n",
        "  y_pred=model.predict(x_test)\n",
        "  accuracy=accuracy_score(y_test, y_pred)\n",
        "  return accuracy"
      ],
      "execution_count": 29,
      "outputs": []
    },
    {
      "cell_type": "code",
      "source": [
        "study=optuna.create_study(direction='maximize')\n",
        "study.optimize(objective_xgb, n_trials=100)"
      ],
      "metadata": {
        "colab": {
          "base_uri": "https://localhost:8080/"
        },
        "id": "R-G1ZVWTAfDx",
        "outputId": "b0e86713-1498-4830-d573-ff97550842bd"
      },
      "execution_count": 30,
      "outputs": [
        {
          "output_type": "stream",
          "name": "stderr",
          "text": [
            "[I 2025-09-13 07:40:28,493] A new study created in memory with name: no-name-9e7cd5fc-7f7f-44de-9253-8b7abb6d9bc0\n",
            "[I 2025-09-13 07:40:28,858] Trial 0 finished with value: 0.8850200880045915 and parameters: {'n_estimators': 1, 'max_depth': 18, 'learning_rate': 0.004340745635682059, 'subsample': 0.5399928510921593, 'colsample_bytree': 0.7266327987893321, 'min_child_weight': 1, 'reg_alpha': 0.4693583210508723, 'reg_lambda': 0.8350905437704298}. Best is trial 0 with value: 0.8850200880045915.\n",
            "[I 2025-09-13 07:40:29,136] Trial 1 finished with value: 0.8850200880045915 and parameters: {'n_estimators': 3, 'max_depth': 16, 'learning_rate': 0.014471323526991726, 'subsample': 0.7501224578229041, 'colsample_bytree': 0.3124250850754821, 'min_child_weight': 6, 'reg_alpha': 0.7514174587743627, 'reg_lambda': 0.7598204984041528}. Best is trial 0 with value: 0.8850200880045915.\n",
            "[I 2025-09-13 07:40:29,405] Trial 2 finished with value: 0.8850200880045915 and parameters: {'n_estimators': 6, 'max_depth': 1, 'learning_rate': 0.012215383461448823, 'subsample': 0.761870186461981, 'colsample_bytree': 0.7244890554659293, 'min_child_weight': 58, 'reg_alpha': 0.7959182681047854, 'reg_lambda': 0.5308166276050079}. Best is trial 0 with value: 0.8850200880045915.\n",
            "[I 2025-09-13 07:40:29,656] Trial 3 finished with value: 0.8850200880045915 and parameters: {'n_estimators': 1, 'max_depth': 3, 'learning_rate': 0.08212559261462167, 'subsample': 0.10346384606789932, 'colsample_bytree': 0.5546361328326362, 'min_child_weight': 43, 'reg_alpha': 0.7306661363666781, 'reg_lambda': 0.27440619967392343}. Best is trial 0 with value: 0.8850200880045915.\n",
            "[I 2025-09-13 07:40:29,933] Trial 4 finished with value: 0.8850200880045915 and parameters: {'n_estimators': 1, 'max_depth': 3, 'learning_rate': 0.0015936402653863523, 'subsample': 0.12936234566949412, 'colsample_bytree': 0.10691974209363382, 'min_child_weight': 44, 'reg_alpha': 0.4315415921294702, 'reg_lambda': 0.18335144903961587}. Best is trial 0 with value: 0.8850200880045915.\n",
            "[I 2025-09-13 07:40:30,217] Trial 5 finished with value: 0.8850200880045915 and parameters: {'n_estimators': 5, 'max_depth': 8, 'learning_rate': 0.07199021479455842, 'subsample': 0.5563267405512312, 'colsample_bytree': 0.16017503536451602, 'min_child_weight': 22, 'reg_alpha': 0.09545620156243295, 'reg_lambda': 0.3321806143762822}. Best is trial 0 with value: 0.8850200880045915.\n",
            "[I 2025-09-13 07:40:32,265] Trial 6 finished with value: 0.8850200880045915 and parameters: {'n_estimators': 175, 'max_depth': 9, 'learning_rate': 0.0021874327641408326, 'subsample': 0.5663936952590917, 'colsample_bytree': 0.6126488840750104, 'min_child_weight': 21, 'reg_alpha': 0.6653480112070806, 'reg_lambda': 0.9213044781563468}. Best is trial 0 with value: 0.8850200880045915.\n",
            "[I 2025-09-13 07:40:33,958] Trial 7 finished with value: 0.8955423761239717 and parameters: {'n_estimators': 52, 'max_depth': 29, 'learning_rate': 0.7762844036344675, 'subsample': 0.15066850884001629, 'colsample_bytree': 0.20523810727493313, 'min_child_weight': 77, 'reg_alpha': 0.3290327182620095, 'reg_lambda': 0.5356886664744598}. Best is trial 7 with value: 0.8955423761239717.\n",
            "[I 2025-09-13 07:40:34,466] Trial 8 finished with value: 0.8871245456284675 and parameters: {'n_estimators': 34, 'max_depth': 24, 'learning_rate': 0.06037414680172982, 'subsample': 0.9267516288522958, 'colsample_bytree': 0.17706790541821527, 'min_child_weight': 79, 'reg_alpha': 0.5735019611214454, 'reg_lambda': 0.3194749924051189}. Best is trial 7 with value: 0.8955423761239717.\n",
            "[I 2025-09-13 07:40:35,650] Trial 9 finished with value: 0.9163956380332887 and parameters: {'n_estimators': 84, 'max_depth': 16, 'learning_rate': 0.023259163042431145, 'subsample': 0.22140004580631353, 'colsample_bytree': 0.30989732888808996, 'min_child_weight': 1, 'reg_alpha': 0.7897360480513044, 'reg_lambda': 0.9011637231066755}. Best is trial 9 with value: 0.9163956380332887.\n",
            "[I 2025-09-13 07:40:36,570] Trial 10 finished with value: 0.9158216950449589 and parameters: {'n_estimators': 187, 'max_depth': 1, 'learning_rate': 0.4722887733638771, 'subsample': 0.23066215713448096, 'colsample_bytree': 0.3398753248569363, 'min_child_weight': 1, 'reg_alpha': 0.9786799056243265, 'reg_lambda': 0.018136639925703524}. Best is trial 9 with value: 0.9163956380332887.\n",
            "[I 2025-09-13 07:40:39,815] Trial 11 finished with value: 0.9133346087621963 and parameters: {'n_estimators': 180, 'max_depth': 1, 'learning_rate': 0.402149157620062, 'subsample': 0.2723672732148685, 'colsample_bytree': 0.35142261892055515, 'min_child_weight': 1, 'reg_alpha': 0.9952054308702141, 'reg_lambda': 0.7326165968292487}. Best is trial 9 with value: 0.9163956380332887.\n",
            "[I 2025-09-13 07:40:40,994] Trial 12 finished with value: 0.9140998660799694 and parameters: {'n_estimators': 47, 'max_depth': 2, 'learning_rate': 0.2387238468887934, 'subsample': 0.23400229100371542, 'colsample_bytree': 0.3664109349882868, 'min_child_weight': 3, 'reg_alpha': 0.9556851668880033, 'reg_lambda': 0.01992580283605474}. Best is trial 9 with value: 0.9163956380332887.\n",
            "[I 2025-09-13 07:40:41,426] Trial 13 finished with value: 0.8850200880045915 and parameters: {'n_estimators': 21, 'max_depth': 7, 'learning_rate': 0.023260184325331522, 'subsample': 0.20408878281233195, 'colsample_bytree': 0.2832646855941557, 'min_child_weight': 2, 'reg_alpha': 0.8726764511618195, 'reg_lambda': 0.6653791486174088}. Best is trial 9 with value: 0.9163956380332887.\n",
            "[I 2025-09-13 07:40:42,060] Trial 14 finished with value: 0.9200306102927109 and parameters: {'n_estimators': 90, 'max_depth': 2, 'learning_rate': 0.18769554596259674, 'subsample': 0.3624244758010628, 'colsample_bytree': 0.48123518505646673, 'min_child_weight': 2, 'reg_alpha': 0.8732760270482536, 'reg_lambda': 0.982385934688386}. Best is trial 14 with value: 0.9200306102927109.\n",
            "[I 2025-09-13 07:40:42,634] Trial 15 finished with value: 0.9129519801033097 and parameters: {'n_estimators': 71, 'max_depth': 2, 'learning_rate': 0.15262088022565728, 'subsample': 0.3725025269344131, 'colsample_bytree': 0.474759453703641, 'min_child_weight': 4, 'reg_alpha': 0.6152394124504617, 'reg_lambda': 0.9957564632551124}. Best is trial 14 with value: 0.9200306102927109.\n",
            "[I 2025-09-13 07:40:43,000] Trial 16 finished with value: 0.8850200880045915 and parameters: {'n_estimators': 16, 'max_depth': 5, 'learning_rate': 0.03246442737291881, 'subsample': 0.3594678451227675, 'colsample_bytree': 0.46863736443422926, 'min_child_weight': 2, 'reg_alpha': 0.8227967685344568, 'reg_lambda': 0.9853401080286069}. Best is trial 14 with value: 0.9200306102927109.\n",
            "[I 2025-09-13 07:40:43,905] Trial 17 finished with value: 0.8850200880045915 and parameters: {'n_estimators': 82, 'max_depth': 13, 'learning_rate': 0.007307113914389586, 'subsample': 0.17370402933266027, 'colsample_bytree': 0.23791380361971767, 'min_child_weight': 10, 'reg_alpha': 0.23442083366230393, 'reg_lambda': 0.8784782980328831}. Best is trial 14 with value: 0.9200306102927109.\n",
            "[I 2025-09-13 07:40:44,232] Trial 18 finished with value: 0.8894203175817869 and parameters: {'n_estimators': 16, 'max_depth': 2, 'learning_rate': 0.14902290772550816, 'subsample': 0.3180102018511266, 'colsample_bytree': 0.442345760964176, 'min_child_weight': 2, 'reg_alpha': 0.8871245717388551, 'reg_lambda': 0.6373117859597438}. Best is trial 14 with value: 0.9200306102927109.\n",
            "[I 2025-09-13 07:40:45,212] Trial 19 finished with value: 0.9175435240099483 and parameters: {'n_estimators': 95, 'max_depth': 5, 'learning_rate': 0.03271422010726011, 'subsample': 0.42525587749429267, 'colsample_bytree': 0.9256203667575654, 'min_child_weight': 10, 'reg_alpha': 0.6856044071106148, 'reg_lambda': 0.7979134457013068}. Best is trial 14 with value: 0.9200306102927109.\n",
            "[I 2025-09-13 07:40:45,690] Trial 20 finished with value: 0.9391620432370384 and parameters: {'n_estimators': 28, 'max_depth': 5, 'learning_rate': 0.9838741466973121, 'subsample': 0.4448052453448587, 'colsample_bytree': 0.9575700373447714, 'min_child_weight': 11, 'reg_alpha': 0.5772534739435722, 'reg_lambda': 0.7796192389116048}. Best is trial 20 with value: 0.9391620432370384.\n",
            "[I 2025-09-13 07:40:46,142] Trial 21 finished with value: 0.9359096996365027 and parameters: {'n_estimators': 29, 'max_depth': 5, 'learning_rate': 0.974017358436346, 'subsample': 0.4280297871446382, 'colsample_bytree': 0.9983536217746882, 'min_child_weight': 10, 'reg_alpha': 0.5466758946780667, 'reg_lambda': 0.7877970938423592}. Best is trial 20 with value: 0.9391620432370384.\n",
            "[I 2025-09-13 07:40:46,562] Trial 22 finished with value: 0.9336139276831835 and parameters: {'n_estimators': 25, 'max_depth': 4, 'learning_rate': 0.9650983469121933, 'subsample': 0.48346560378786646, 'colsample_bytree': 0.8284638872741561, 'min_child_weight': 20, 'reg_alpha': 0.5499323198489365, 'reg_lambda': 0.6631339893008885}. Best is trial 20 with value: 0.9391620432370384.\n",
            "[I 2025-09-13 07:40:46,981] Trial 23 finished with value: 0.9259613545054525 and parameters: {'n_estimators': 25, 'max_depth': 4, 'learning_rate': 0.780500529576114, 'subsample': 0.4586995332442741, 'colsample_bytree': 0.891561192720887, 'min_child_weight': 20, 'reg_alpha': 0.5200288209193475, 'reg_lambda': 0.6285513804823724}. Best is trial 20 with value: 0.9391620432370384.\n",
            "[I 2025-09-13 07:40:47,341] Trial 24 finished with value: 0.9399273005548116 and parameters: {'n_estimators': 11, 'max_depth': 10, 'learning_rate': 0.9197245451489349, 'subsample': 0.6575855034781249, 'colsample_bytree': 0.9949628351857297, 'min_child_weight': 13, 'reg_alpha': 0.38999873792548934, 'reg_lambda': 0.440323755138735}. Best is trial 24 with value: 0.9399273005548116.\n",
            "[I 2025-09-13 07:40:47,681] Trial 25 finished with value: 0.9299789554237612 and parameters: {'n_estimators': 7, 'max_depth': 10, 'learning_rate': 0.39107244182286366, 'subsample': 0.6597309941545211, 'colsample_bytree': 0.9997255830663913, 'min_child_weight': 11, 'reg_alpha': 0.37443410971656843, 'reg_lambda': 0.4274220263394878}. Best is trial 24 with value: 0.9399273005548116.\n",
            "[I 2025-09-13 07:40:48,052] Trial 26 finished with value: 0.9464319877558829 and parameters: {'n_estimators': 11, 'max_depth': 7, 'learning_rate': 0.499103169384524, 'subsample': 0.9023579789779717, 'colsample_bytree': 0.7074784924054675, 'min_child_weight': 6, 'reg_alpha': 0.2362281581234621, 'reg_lambda': 0.4610018376983213}. Best is trial 26 with value: 0.9464319877558829.\n",
            "[I 2025-09-13 07:40:48,443] Trial 27 finished with value: 0.95618901855749 and parameters: {'n_estimators': 10, 'max_depth': 12, 'learning_rate': 0.485613913247345, 'subsample': 0.9897057235352478, 'colsample_bytree': 0.7016535688524419, 'min_child_weight': 5, 'reg_alpha': 0.1941788662039482, 'reg_lambda': 0.44516953090833783}. Best is trial 27 with value: 0.95618901855749.\n",
            "[I 2025-09-13 07:40:48,746] Trial 28 finished with value: 0.9118040941266501 and parameters: {'n_estimators': 3, 'max_depth': 10, 'learning_rate': 0.31166767964842623, 'subsample': 0.9303167958281783, 'colsample_bytree': 0.6715268507675803, 'min_child_weight': 6, 'reg_alpha': 0.15634414808686323, 'reg_lambda': 0.4267543810827148}. Best is trial 27 with value: 0.95618901855749.\n",
            "[I 2025-09-13 07:40:49,140] Trial 29 finished with value: 0.9521714176391812 and parameters: {'n_estimators': 9, 'max_depth': 12, 'learning_rate': 0.533148455145686, 'subsample': 0.999388860529388, 'colsample_bytree': 0.7537325057887632, 'min_child_weight': 4, 'reg_alpha': 0.015018872831336266, 'reg_lambda': 0.4362255179126003}. Best is trial 27 with value: 0.95618901855749.\n",
            "[I 2025-09-13 07:40:49,458] Trial 30 finished with value: 0.9227090109049167 and parameters: {'n_estimators': 3, 'max_depth': 21, 'learning_rate': 0.535905088627038, 'subsample': 0.9414915782806579, 'colsample_bytree': 0.5787355582950291, 'min_child_weight': 4, 'reg_alpha': 0.01297344450032939, 'reg_lambda': 0.16978794389247415}. Best is trial 27 with value: 0.95618901855749.\n",
            "[I 2025-09-13 07:40:50,102] Trial 31 finished with value: 0.9565716472163766 and parameters: {'n_estimators': 10, 'max_depth': 13, 'learning_rate': 0.5940701288376427, 'subsample': 0.7649583025060729, 'colsample_bytree': 0.8284088071599035, 'min_child_weight': 4, 'reg_alpha': 0.25172616523616653, 'reg_lambda': 0.44036485344138837}. Best is trial 31 with value: 0.9565716472163766.\n",
            "[I 2025-09-13 07:40:51,414] Trial 32 finished with value: 0.94509278744978 and parameters: {'n_estimators': 10, 'max_depth': 14, 'learning_rate': 0.2573343216037705, 'subsample': 0.8098683546456269, 'colsample_bytree': 0.8030047236482991, 'min_child_weight': 4, 'reg_alpha': 0.26190210618346416, 'reg_lambda': 0.49010077885825265}. Best is trial 31 with value: 0.9565716472163766.\n",
            "[I 2025-09-13 07:40:52,140] Trial 33 finished with value: 0.9052994069255788 and parameters: {'n_estimators': 10, 'max_depth': 7, 'learning_rate': 0.11042592162466514, 'subsample': 0.7910627008780945, 'colsample_bytree': 0.7228296583695861, 'min_child_weight': 7, 'reg_alpha': 0.005963875701292781, 'reg_lambda': 0.3621799058395192}. Best is trial 31 with value: 0.9565716472163766.\n",
            "[I 2025-09-13 07:40:52,583] Trial 34 finished with value: 0.9098909508322174 and parameters: {'n_estimators': 2, 'max_depth': 13, 'learning_rate': 0.6031879335231032, 'subsample': 0.6614601355295378, 'colsample_bytree': 0.7499977456540371, 'min_child_weight': 3, 'reg_alpha': 0.13763853953335356, 'reg_lambda': 0.5428916464165673}. Best is trial 31 with value: 0.9565716472163766.\n",
            "[I 2025-09-13 07:40:52,937] Trial 35 finished with value: 0.9343791850009566 and parameters: {'n_estimators': 6, 'max_depth': 18, 'learning_rate': 0.3272060936275684, 'subsample': 0.9894298268080762, 'colsample_bytree': 0.6192718275509802, 'min_child_weight': 5, 'reg_alpha': 0.23102272219706493, 'reg_lambda': 0.23058471964473862}. Best is trial 31 with value: 0.9565716472163766.\n",
            "[I 2025-09-13 07:40:53,263] Trial 36 finished with value: 0.920795867610484 and parameters: {'n_estimators': 4, 'max_depth': 7, 'learning_rate': 0.5397748833908087, 'subsample': 0.8115231192110218, 'colsample_bytree': 0.557627709638426, 'min_child_weight': 3, 'reg_alpha': 0.09447344435651162, 'reg_lambda': 0.381260449911136}. Best is trial 31 with value: 0.9565716472163766.\n",
            "[I 2025-09-13 07:40:53,620] Trial 37 finished with value: 0.9248134685287928 and parameters: {'n_estimators': 8, 'max_depth': 12, 'learning_rate': 0.22018168829457757, 'subsample': 0.7308901562024717, 'colsample_bytree': 0.6703980538686266, 'min_child_weight': 7, 'reg_alpha': 0.2985613042581521, 'reg_lambda': 0.479508107615593}. Best is trial 31 with value: 0.9565716472163766.\n",
            "[I 2025-09-13 07:40:54,071] Trial 38 finished with value: 0.9079778075377846 and parameters: {'n_estimators': 15, 'max_depth': 22, 'learning_rate': 0.12090878691325453, 'subsample': 0.5977507263381246, 'colsample_bytree': 0.1012078657470664, 'min_child_weight': 5, 'reg_alpha': 0.18600726610249022, 'reg_lambda': 0.5889200575918412}. Best is trial 31 with value: 0.9565716472163766.\n",
            "[I 2025-09-13 07:40:54,373] Trial 39 finished with value: 0.8850200880045915 and parameters: {'n_estimators': 4, 'max_depth': 17, 'learning_rate': 0.0034653479347724523, 'subsample': 0.8511118253112945, 'colsample_bytree': 0.8141680726330258, 'min_child_weight': 16, 'reg_alpha': 0.07533901744383442, 'reg_lambda': 0.28637903316163643}. Best is trial 31 with value: 0.9565716472163766.\n",
            "[I 2025-09-13 07:40:54,660] Trial 40 finished with value: 0.8850200880045915 and parameters: {'n_estimators': 2, 'max_depth': 8, 'learning_rate': 0.04620659882590624, 'subsample': 0.7273687775590838, 'colsample_bytree': 0.4070047473715936, 'min_child_weight': 35, 'reg_alpha': 0.06575825171194194, 'reg_lambda': 0.5855209936518531}. Best is trial 31 with value: 0.9565716472163766.\n",
            "[I 2025-09-13 07:40:55,112] Trial 41 finished with value: 0.9475798737325426 and parameters: {'n_estimators': 11, 'max_depth': 14, 'learning_rate': 0.2710280406380151, 'subsample': 0.9956897847458228, 'colsample_bytree': 0.7935379482339425, 'min_child_weight': 4, 'reg_alpha': 0.28574138244539304, 'reg_lambda': 0.4792937925334684}. Best is trial 31 with value: 0.9565716472163766.\n",
            "[I 2025-09-13 07:40:55,550] Trial 42 finished with value: 0.9563803328869332 and parameters: {'n_estimators': 12, 'max_depth': 30, 'learning_rate': 0.6117568301761191, 'subsample': 0.8782044161232626, 'colsample_bytree': 0.7022778715387482, 'min_child_weight': 3, 'reg_alpha': 0.42769227212218164, 'reg_lambda': 0.40421843524953804}. Best is trial 31 with value: 0.9565716472163766.\n",
            "[I 2025-09-13 07:40:55,887] Trial 43 finished with value: 0.9422230725081309 and parameters: {'n_estimators': 5, 'max_depth': 29, 'learning_rate': 0.5979207232438063, 'subsample': 0.9800059031206231, 'colsample_bytree': 0.6389620437430467, 'min_child_weight': 3, 'reg_alpha': 0.36060447793703143, 'reg_lambda': 0.37799406057227347}. Best is trial 31 with value: 0.9565716472163766.\n",
            "[I 2025-09-13 07:40:56,358] Trial 44 finished with value: 0.952745360627511 and parameters: {'n_estimators': 14, 'max_depth': 21, 'learning_rate': 0.37281720531379486, 'subsample': 0.7137656145795804, 'colsample_bytree': 0.5244368157276282, 'min_child_weight': 4, 'reg_alpha': 0.4457740285381878, 'reg_lambda': 0.511162671187193}. Best is trial 31 with value: 0.9565716472163766.\n",
            "[I 2025-09-13 07:40:56,813] Trial 45 finished with value: 0.9449014731203367 and parameters: {'n_estimators': 19, 'max_depth': 24, 'learning_rate': 0.691712205192457, 'subsample': 0.5103287733212015, 'colsample_bytree': 0.5162369231991288, 'min_child_weight': 8, 'reg_alpha': 0.4239232215315872, 'reg_lambda': 0.5340576566717292}. Best is trial 31 with value: 0.9565716472163766.\n",
            "[I 2025-09-13 07:40:57,586] Trial 46 finished with value: 0.9613545054524584 and parameters: {'n_estimators': 39, 'max_depth': 20, 'learning_rate': 0.38713806787675886, 'subsample': 0.7099142654119464, 'colsample_bytree': 0.1392664303802847, 'min_child_weight': 3, 'reg_alpha': 0.5016506710833362, 'reg_lambda': 0.4039702699786737}. Best is trial 46 with value: 0.9613545054524584.\n",
            "[I 2025-09-13 07:40:58,357] Trial 47 finished with value: 0.9634589630763344 and parameters: {'n_estimators': 44, 'max_depth': 26, 'learning_rate': 0.39472318277851365, 'subsample': 0.5959439230801062, 'colsample_bytree': 0.12784463241486013, 'min_child_weight': 2, 'reg_alpha': 0.47236681763354665, 'reg_lambda': 0.30424060108089207}. Best is trial 47 with value: 0.9634589630763344.\n",
            "[I 2025-09-13 07:40:59,069] Trial 48 finished with value: 0.9552324469102735 and parameters: {'n_estimators': 37, 'max_depth': 30, 'learning_rate': 0.17611302415648866, 'subsample': 0.5220880385451547, 'colsample_bytree': 0.13468262240530618, 'min_child_weight': 2, 'reg_alpha': 0.46628302389437054, 'reg_lambda': 0.13602458847576818}. Best is trial 47 with value: 0.9634589630763344.\n",
            "[I 2025-09-13 07:41:00,056] Trial 49 finished with value: 0.952745360627511 and parameters: {'n_estimators': 60, 'max_depth': 19, 'learning_rate': 0.09544660992217743, 'subsample': 0.5711830044197969, 'colsample_bytree': 0.11951158911486902, 'min_child_weight': 3, 'reg_alpha': 0.6213441923896023, 'reg_lambda': 0.24181489053015878}. Best is trial 47 with value: 0.9634589630763344.\n",
            "[I 2025-09-13 07:41:00,902] Trial 50 finished with value: 0.9441362158025636 and parameters: {'n_estimators': 35, 'max_depth': 26, 'learning_rate': 0.07429708603692017, 'subsample': 0.6077178223630265, 'colsample_bytree': 0.19073156988162426, 'min_child_weight': 1, 'reg_alpha': 0.48150535519467735, 'reg_lambda': 0.32015500964350324}. Best is trial 47 with value: 0.9634589630763344.\n",
            "[I 2025-09-13 07:41:01,718] Trial 51 finished with value: 0.9598239908169122 and parameters: {'n_estimators': 42, 'max_depth': 26, 'learning_rate': 0.18376652543852248, 'subsample': 0.6770335999530182, 'colsample_bytree': 0.1505049006375808, 'min_child_weight': 2, 'reg_alpha': 0.4957587988469129, 'reg_lambda': 0.06552757977283846}. Best is trial 47 with value: 0.9634589630763344.\n",
            "[I 2025-09-13 07:41:02,548] Trial 52 finished with value: 0.9661373636885403 and parameters: {'n_estimators': 41, 'max_depth': 26, 'learning_rate': 0.4053831111068762, 'subsample': 0.8383557201839908, 'colsample_bytree': 0.14000365676752763, 'min_child_weight': 2, 'reg_alpha': 0.41088451776959856, 'reg_lambda': 0.05504400797842509}. Best is trial 52 with value: 0.9661373636885403.\n",
            "[I 2025-09-13 07:41:05,970] Trial 53 finished with value: 0.9713028505835087 and parameters: {'n_estimators': 122, 'max_depth': 26, 'learning_rate': 0.2109273908851353, 'subsample': 0.6853548415429973, 'colsample_bytree': 0.151535283857884, 'min_child_weight': 2, 'reg_alpha': 0.4100621538162067, 'reg_lambda': 0.07402584158642962}. Best is trial 53 with value: 0.9713028505835087.\n",
            "[I 2025-09-13 07:41:07,320] Trial 54 finished with value: 0.9473885594030993 and parameters: {'n_estimators': 128, 'max_depth': 25, 'learning_rate': 0.2135513215441433, 'subsample': 0.10673166388015189, 'colsample_bytree': 0.15111098205605283, 'min_child_weight': 2, 'reg_alpha': 0.3303181089688587, 'reg_lambda': 0.0654029507827611}. Best is trial 53 with value: 0.9713028505835087.\n",
            "[I 2025-09-13 07:41:09,206] Trial 55 finished with value: 0.9676678783240865 and parameters: {'n_estimators': 126, 'max_depth': 16, 'learning_rate': 0.14180607295978356, 'subsample': 0.6410593272038153, 'colsample_bytree': 0.1580128856612267, 'min_child_weight': 1, 'reg_alpha': 0.4958049769820652, 'reg_lambda': 0.1084382850490076}. Best is trial 53 with value: 0.9713028505835087.\n",
            "[I 2025-09-13 07:41:13,501] Trial 56 finished with value: 0.963841591735221 and parameters: {'n_estimators': 135, 'max_depth': 16, 'learning_rate': 0.054455487941029126, 'subsample': 0.6455499148549213, 'colsample_bytree': 0.1577749496666105, 'min_child_weight': 1, 'reg_alpha': 0.5077326454302726, 'reg_lambda': 0.07604237044221729}. Best is trial 53 with value: 0.9713028505835087.\n",
            "[I 2025-09-13 07:41:16,060] Trial 57 finished with value: 0.961737134111345 and parameters: {'n_estimators': 123, 'max_depth': 16, 'learning_rate': 0.052063173281911214, 'subsample': 0.6124322174875595, 'colsample_bytree': 0.12021404054601435, 'min_child_weight': 1, 'reg_alpha': 0.6195452363380928, 'reg_lambda': 0.10370226704922829}. Best is trial 53 with value: 0.9713028505835087.\n",
            "[I 2025-09-13 07:41:19,439] Trial 58 finished with value: 0.940883872202028 and parameters: {'n_estimators': 125, 'max_depth': 15, 'learning_rate': 0.020379630944935757, 'subsample': 0.6218986657243782, 'colsample_bytree': 0.11475682362605066, 'min_child_weight': 1, 'reg_alpha': 0.6580053509342351, 'reg_lambda': 0.11263637789915294}. Best is trial 53 with value: 0.9713028505835087.\n",
            "[I 2025-09-13 07:41:21,539] Trial 59 finished with value: 0.9626937057585613 and parameters: {'n_estimators': 133, 'max_depth': 17, 'learning_rate': 0.0494775815147549, 'subsample': 0.5427487787049242, 'colsample_bytree': 0.17061551127923455, 'min_child_weight': 1, 'reg_alpha': 0.7174074554378462, 'reg_lambda': 0.0009212880156809627}. Best is trial 53 with value: 0.9713028505835087.\n",
            "[I 2025-09-13 07:41:23,905] Trial 60 finished with value: 0.9663286780179835 and parameters: {'n_estimators': 154, 'max_depth': 18, 'learning_rate': 0.06100704299544602, 'subsample': 0.5468502142919206, 'colsample_bytree': 0.223625998705067, 'min_child_weight': 1, 'reg_alpha': 0.7384075674275795, 'reg_lambda': 0.022899060385329947}. Best is trial 53 with value: 0.9713028505835087.\n",
            "[I 2025-09-13 07:41:26,907] Trial 61 finished with value: 0.963841591735221 and parameters: {'n_estimators': 197, 'max_depth': 18, 'learning_rate': 0.041341964133206316, 'subsample': 0.5512242815693965, 'colsample_bytree': 0.21875287796163137, 'min_child_weight': 1, 'reg_alpha': 0.7411057438418218, 'reg_lambda': 0.005621585073007321}. Best is trial 53 with value: 0.9713028505835087.\n",
            "[I 2025-09-13 07:41:31,654] Trial 62 finished with value: 0.9609718767935719 and parameters: {'n_estimators': 192, 'max_depth': 22, 'learning_rate': 0.04005282359353962, 'subsample': 0.39546880110335786, 'colsample_bytree': 0.24868332049874528, 'min_child_weight': 1, 'reg_alpha': 0.7717201161920626, 'reg_lambda': 0.053586072427397394}. Best is trial 53 with value: 0.9713028505835087.\n",
            "[I 2025-09-13 07:41:33,739] Trial 63 finished with value: 0.965946049359097 and parameters: {'n_estimators': 154, 'max_depth': 25, 'learning_rate': 0.0620048341210802, 'subsample': 0.4828299634892969, 'colsample_bytree': 0.21747887729296206, 'min_child_weight': 2, 'reg_alpha': 0.8101837190005354, 'reg_lambda': 0.1730358035516295}. Best is trial 53 with value: 0.9713028505835087.\n",
            "[I 2025-09-13 07:41:36,027] Trial 64 finished with value: 0.9644155347235508 and parameters: {'n_estimators': 152, 'max_depth': 19, 'learning_rate': 0.06128932770410082, 'subsample': 0.4828201544894234, 'colsample_bytree': 0.21848986439873047, 'min_child_weight': 1, 'reg_alpha': 0.8209320730149953, 'reg_lambda': 0.03642037913908443}. Best is trial 53 with value: 0.9713028505835087.\n",
            "[I 2025-09-13 07:41:37,987] Trial 65 finished with value: 0.9586761048402526 and parameters: {'n_estimators': 156, 'max_depth': 23, 'learning_rate': 0.060422369832917655, 'subsample': 0.3245266061639308, 'colsample_bytree': 0.19197535359401816, 'min_child_weight': 2, 'reg_alpha': 0.8422367814502218, 'reg_lambda': 0.03819530114049192}. Best is trial 53 with value: 0.9713028505835087.\n",
            "[I 2025-09-13 07:41:39,514] Trial 66 finished with value: 0.9688157643007461 and parameters: {'n_estimators': 98, 'max_depth': 19, 'learning_rate': 0.13722956400365033, 'subsample': 0.40515189385562117, 'colsample_bytree': 0.2765471351853575, 'min_child_weight': 1, 'reg_alpha': 0.938093177756151, 'reg_lambda': 0.17671213544465508}. Best is trial 53 with value: 0.9713028505835087.\n",
            "[I 2025-09-13 07:41:42,141] Trial 67 finished with value: 0.9657547350296537 and parameters: {'n_estimators': 101, 'max_depth': 19, 'learning_rate': 0.13631136149364595, 'subsample': 0.4808478497696338, 'colsample_bytree': 0.28757054398111054, 'min_child_weight': 2, 'reg_alpha': 0.9303816408186619, 'reg_lambda': 0.17789173843329825}. Best is trial 53 with value: 0.9713028505835087.\n",
            "[I 2025-09-13 07:41:43,493] Trial 68 finished with value: 0.9246221541993496 and parameters: {'n_estimators': 98, 'max_depth': 3, 'learning_rate': 0.13769393553191908, 'subsample': 0.40663642878202527, 'colsample_bytree': 0.28896748312141884, 'min_child_weight': 28, 'reg_alpha': 0.9325290297712513, 'reg_lambda': 0.17948443226979316}. Best is trial 53 with value: 0.9713028505835087.\n",
            "[I 2025-09-13 07:41:44,544] Trial 69 finished with value: 0.958293476181366 and parameters: {'n_estimators': 69, 'max_depth': 11, 'learning_rate': 0.09536799196505188, 'subsample': 0.4679498282036109, 'colsample_bytree': 0.2566138614178399, 'min_child_weight': 2, 'reg_alpha': 0.9139771789131581, 'reg_lambda': 0.22064045430901977}. Best is trial 53 with value: 0.9713028505835087.\n",
            "[I 2025-09-13 07:41:45,971] Trial 70 finished with value: 0.9588674191696958 and parameters: {'n_estimators': 101, 'max_depth': 27, 'learning_rate': 0.07889994108087454, 'subsample': 0.3394776972437084, 'colsample_bytree': 0.3232570630174749, 'min_child_weight': 2, 'reg_alpha': 0.9798218856582893, 'reg_lambda': 0.14799425842201905}. Best is trial 53 with value: 0.9713028505835087.\n",
            "[I 2025-09-13 07:41:48,264] Trial 71 finished with value: 0.9644155347235508 and parameters: {'n_estimators': 156, 'max_depth': 19, 'learning_rate': 0.06722939431651559, 'subsample': 0.49755521088874705, 'colsample_bytree': 0.21730236096715605, 'min_child_weight': 1, 'reg_alpha': 0.8195310898091782, 'reg_lambda': 0.10020436436916098}. Best is trial 53 with value: 0.9713028505835087.\n",
            "[I 2025-09-13 07:41:49,429] Trial 72 finished with value: 0.9554237612397168 and parameters: {'n_estimators': 73, 'max_depth': 20, 'learning_rate': 0.10101565723470059, 'subsample': 0.26569332326742506, 'colsample_bytree': 0.27659901010369925, 'min_child_weight': 1, 'reg_alpha': 0.8512733466256036, 'reg_lambda': 0.20530919473272374}. Best is trial 53 with value: 0.9713028505835087.\n",
            "[I 2025-09-13 07:41:51,524] Trial 73 finished with value: 0.968050506982973 and parameters: {'n_estimators': 159, 'max_depth': 23, 'learning_rate': 0.13728824006592769, 'subsample': 0.4438165636085096, 'colsample_bytree': 0.22883039054223808, 'min_child_weight': 1, 'reg_alpha': 0.8985459290021975, 'reg_lambda': 0.12675607737399203}. Best is trial 53 with value: 0.9713028505835087.\n",
            "[I 2025-09-13 07:41:52,134] Trial 74 finished with value: 0.9028123206428161 and parameters: {'n_estimators': 58, 'max_depth': 23, 'learning_rate': 0.13321847331397743, 'subsample': 0.38095081668770825, 'colsample_bytree': 0.1787057039880445, 'min_child_weight': 87, 'reg_alpha': 0.8953853414240499, 'reg_lambda': 0.1368571319534424}. Best is trial 53 with value: 0.9713028505835087.\n",
            "[I 2025-09-13 07:41:53,807] Trial 75 finished with value: 0.9667113066768701 and parameters: {'n_estimators': 107, 'max_depth': 15, 'learning_rate': 0.17413397611063558, 'subsample': 0.4287072785884686, 'colsample_bytree': 0.22940613435190793, 'min_child_weight': 2, 'reg_alpha': 0.95115234215686, 'reg_lambda': 0.2513537565115193}. Best is trial 53 with value: 0.9713028505835087.\n",
            "[I 2025-09-13 07:41:56,068] Trial 76 finished with value: 0.9188827243160512 and parameters: {'n_estimators': 82, 'max_depth': 15, 'learning_rate': 0.16719893162931196, 'subsample': 0.4368107452728608, 'colsample_bytree': 0.20178029024500083, 'min_child_weight': 61, 'reg_alpha': 0.9705563733110079, 'reg_lambda': 0.09179070765914779}. Best is trial 53 with value: 0.9713028505835087.\n",
            "[I 2025-09-13 07:41:57,234] Trial 77 finished with value: 0.960397933805242 and parameters: {'n_estimators': 106, 'max_depth': 28, 'learning_rate': 0.2782714345589498, 'subsample': 0.28132656283179364, 'colsample_bytree': 0.23739256811604542, 'min_child_weight': 5, 'reg_alpha': 0.9004515164211568, 'reg_lambda': 0.15395250367909322}. Best is trial 53 with value: 0.9713028505835087.\n",
            "[I 2025-09-13 07:41:59,119] Trial 78 finished with value: 0.9663286780179835 and parameters: {'n_estimators': 172, 'max_depth': 24, 'learning_rate': 0.21231266147510067, 'subsample': 0.3563917172322709, 'colsample_bytree': 0.1693561257172017, 'min_child_weight': 3, 'reg_alpha': 0.9409258310551939, 'reg_lambda': 0.25853271999934085}. Best is trial 53 with value: 0.9713028505835087.\n",
            "[I 2025-09-13 07:41:59,806] Trial 79 finished with value: 0.9485364453797589 and parameters: {'n_estimators': 54, 'max_depth': 6, 'learning_rate': 0.2094164339741455, 'subsample': 0.35431893006034293, 'colsample_bytree': 0.1802496991196258, 'min_child_weight': 3, 'reg_alpha': 0.9546977503877833, 'reg_lambda': 0.24803242587752405}. Best is trial 53 with value: 0.9713028505835087.\n",
            "[I 2025-09-13 07:42:01,139] Trial 80 finished with value: 0.956954275875263 and parameters: {'n_estimators': 114, 'max_depth': 22, 'learning_rate': 0.11653963338532682, 'subsample': 0.414947202994717, 'colsample_bytree': 0.17085759609651474, 'min_child_weight': 6, 'reg_alpha': 0.9998649926147969, 'reg_lambda': 0.26160073930065425}. Best is trial 53 with value: 0.9713028505835087.\n",
            "[I 2025-09-13 07:42:03,133] Trial 81 finished with value: 0.9615458197819017 and parameters: {'n_estimators': 166, 'max_depth': 24, 'learning_rate': 0.08425786957821306, 'subsample': 0.28939308796528956, 'colsample_bytree': 0.23277316597473474, 'min_child_weight': 2, 'reg_alpha': 0.8520256773680873, 'reg_lambda': 0.2068115980552728}. Best is trial 53 with value: 0.9713028505835087.\n",
            "[I 2025-09-13 07:42:04,241] Trial 82 finished with value: 0.9682418213124163 and parameters: {'n_estimators': 87, 'max_depth': 17, 'learning_rate': 0.31517073220123687, 'subsample': 0.45284168988183165, 'colsample_bytree': 0.2624838576842282, 'min_child_weight': 3, 'reg_alpha': 0.7989110096776195, 'reg_lambda': 0.12129698487967053}. Best is trial 53 with value: 0.9713028505835087.\n",
            "[I 2025-09-13 07:42:05,235] Trial 83 finished with value: 0.9634589630763344 and parameters: {'n_estimators': 84, 'max_depth': 9, 'learning_rate': 0.33653017476382663, 'subsample': 0.4519135676371821, 'colsample_bytree': 0.270371223125557, 'min_child_weight': 5, 'reg_alpha': 0.7739934330012898, 'reg_lambda': 0.12236548805800307}. Best is trial 53 with value: 0.9713028505835087.\n",
            "[I 2025-09-13 07:42:06,581] Trial 84 finished with value: 0.9653721063707672 and parameters: {'n_estimators': 71, 'max_depth': 14, 'learning_rate': 0.24126087609851676, 'subsample': 0.3812699933827626, 'colsample_bytree': 0.30791168520346435, 'min_child_weight': 3, 'reg_alpha': 0.40038505198118096, 'reg_lambda': 0.030474260991889615}. Best is trial 53 with value: 0.9713028505835087.\n",
            "[I 2025-09-13 07:42:09,859] Trial 85 finished with value: 0.9665199923474268 and parameters: {'n_estimators': 176, 'max_depth': 17, 'learning_rate': 0.3024682367701939, 'subsample': 0.3432376247754221, 'colsample_bytree': 0.14212996213806403, 'min_child_weight': 4, 'reg_alpha': 0.8761962752967125, 'reg_lambda': 0.20239241191215396}. Best is trial 53 with value: 0.9713028505835087.\n",
            "[I 2025-09-13 07:42:11,948] Trial 86 finished with value: 0.9686244499713028 and parameters: {'n_estimators': 200, 'max_depth': 11, 'learning_rate': 0.15813870469337038, 'subsample': 0.341210928111915, 'colsample_bytree': 0.35927039507415665, 'min_child_weight': 4, 'reg_alpha': 0.8633358012729264, 'reg_lambda': 0.1967778202108624}. Best is trial 53 with value: 0.9713028505835087.\n",
            "[I 2025-09-13 07:42:13,383] Trial 87 finished with value: 0.8850200880045915 and parameters: {'n_estimators': 142, 'max_depth': 17, 'learning_rate': 0.0012617212642113016, 'subsample': 0.30151029145315666, 'colsample_bytree': 0.38037183948414655, 'min_child_weight': 9, 'reg_alpha': 0.8628061664765708, 'reg_lambda': 0.09351609365318095}. Best is trial 53 with value: 0.9713028505835087.\n",
            "[I 2025-09-13 07:42:15,145] Trial 88 finished with value: 0.9642242203941075 and parameters: {'n_estimators': 116, 'max_depth': 11, 'learning_rate': 0.28912529701926815, 'subsample': 0.3287524660819281, 'colsample_bytree': 0.36472796054057094, 'min_child_weight': 4, 'reg_alpha': 0.9137119809462432, 'reg_lambda': 0.19809934934728676}. Best is trial 53 with value: 0.9713028505835087.\n",
            "[I 2025-09-13 07:42:17,072] Trial 89 finished with value: 0.9709202219246221 and parameters: {'n_estimators': 181, 'max_depth': 13, 'learning_rate': 0.17277808389536184, 'subsample': 0.39589116496074644, 'colsample_bytree': 0.33138604622340767, 'min_child_weight': 4, 'reg_alpha': 0.8817108471674026, 'reg_lambda': 0.12564786943238823}. Best is trial 53 with value: 0.9713028505835087.\n",
            "[I 2025-09-13 07:42:18,955] Trial 90 finished with value: 0.9623110770996748 and parameters: {'n_estimators': 181, 'max_depth': 9, 'learning_rate': 0.15493169778740415, 'subsample': 0.30495191217956225, 'colsample_bytree': 0.41319230036712906, 'min_child_weight': 7, 'reg_alpha': 0.5459268066741552, 'reg_lambda': 0.15982370480874863}. Best is trial 53 with value: 0.9713028505835087.\n",
            "[I 2025-09-13 07:42:22,640] Trial 91 finished with value: 0.9678591926535297 and parameters: {'n_estimators': 198, 'max_depth': 13, 'learning_rate': 0.18654917335873394, 'subsample': 0.3962110033259353, 'colsample_bytree': 0.3259539916905646, 'min_child_weight': 6, 'reg_alpha': 0.8762347279384662, 'reg_lambda': 0.12293518570774853}. Best is trial 53 with value: 0.9713028505835087.\n",
            "[I 2025-09-13 07:42:24,568] Trial 92 finished with value: 0.9672852496651999 and parameters: {'n_estimators': 198, 'max_depth': 13, 'learning_rate': 0.1929605723269201, 'subsample': 0.396208086091906, 'colsample_bytree': 0.31475224949747027, 'min_child_weight': 8, 'reg_alpha': 0.7835296294468932, 'reg_lambda': 0.2907583182437641}. Best is trial 53 with value: 0.9713028505835087.\n",
            "[I 2025-09-13 07:42:26,529] Trial 93 finished with value: 0.9676678783240865 and parameters: {'n_estimators': 194, 'max_depth': 13, 'learning_rate': 0.1904646626279711, 'subsample': 0.3976522844031237, 'colsample_bytree': 0.34119586713521693, 'min_child_weight': 6, 'reg_alpha': 0.8813484865843629, 'reg_lambda': 0.2802661343841891}. Best is trial 53 with value: 0.9713028505835087.\n",
            "[I 2025-09-13 07:42:28,544] Trial 94 finished with value: 0.9628850200880046 and parameters: {'n_estimators': 190, 'max_depth': 11, 'learning_rate': 0.12004909882249772, 'subsample': 0.39036012540196086, 'colsample_bytree': 0.3420961954793724, 'min_child_weight': 6, 'reg_alpha': 0.7848680082930475, 'reg_lambda': 0.2879044897730447}. Best is trial 53 with value: 0.9713028505835087.\n",
            "[I 2025-09-13 07:42:29,972] Trial 95 finished with value: 0.961737134111345 and parameters: {'n_estimators': 138, 'max_depth': 13, 'learning_rate': 0.24540069283895136, 'subsample': 0.3774393865460596, 'colsample_bytree': 0.3099911190618064, 'min_child_weight': 8, 'reg_alpha': 0.8369595672340943, 'reg_lambda': 0.3509662060620682}. Best is trial 53 with value: 0.9713028505835087.\n",
            "[I 2025-09-13 07:42:30,998] Trial 96 finished with value: 0.9525540462980677 and parameters: {'n_estimators': 91, 'max_depth': 9, 'learning_rate': 0.15095922719923793, 'subsample': 0.41993081403645127, 'colsample_bytree': 0.327265973457673, 'min_child_weight': 12, 'reg_alpha': 0.8831107109213745, 'reg_lambda': 0.13555241536569057}. Best is trial 53 with value: 0.9713028505835087.\n",
            "[I 2025-09-13 07:42:34,837] Trial 97 finished with value: 0.963841591735221 and parameters: {'n_estimators': 200, 'max_depth': 13, 'learning_rate': 0.1955454500549169, 'subsample': 0.3642441416135046, 'colsample_bytree': 0.38698535889708097, 'min_child_weight': 8, 'reg_alpha': 0.9162216691879077, 'reg_lambda': 0.11801589008710309}. Best is trial 53 with value: 0.9713028505835087.\n",
            "[I 2025-09-13 07:42:36,167] Trial 98 finished with value: 0.9634589630763344 and parameters: {'n_estimators': 119, 'max_depth': 12, 'learning_rate': 0.18839951353260337, 'subsample': 0.41122632297224887, 'colsample_bytree': 0.35828418869099127, 'min_child_weight': 6, 'reg_alpha': 0.7968988515123444, 'reg_lambda': 0.07366425226194562}. Best is trial 53 with value: 0.9713028505835087.\n",
            "[I 2025-09-13 07:42:37,550] Trial 99 finished with value: 0.8855940309929213 and parameters: {'n_estimators': 137, 'max_depth': 8, 'learning_rate': 0.008013332691661811, 'subsample': 0.43678363740522996, 'colsample_bytree': 0.302893449641252, 'min_child_weight': 17, 'reg_alpha': 0.7073532035470177, 'reg_lambda': 0.7228352474557934}. Best is trial 53 with value: 0.9713028505835087.\n"
          ]
        }
      ]
    },
    {
      "cell_type": "markdown",
      "source": [
        "**Best Parameters**"
      ],
      "metadata": {
        "id": "qz45B4xSB1Bv"
      }
    },
    {
      "cell_type": "code",
      "source": [
        "study.best_params"
      ],
      "metadata": {
        "colab": {
          "base_uri": "https://localhost:8080/"
        },
        "id": "GHdO5f4AB4Aj",
        "outputId": "ff1e3e8c-2f56-4fa0-ee68-af3c5114db08"
      },
      "execution_count": 32,
      "outputs": [
        {
          "output_type": "execute_result",
          "data": {
            "text/plain": [
              "{'n_estimators': 122,\n",
              " 'max_depth': 26,\n",
              " 'learning_rate': 0.2109273908851353,\n",
              " 'subsample': 0.6853548415429973,\n",
              " 'colsample_bytree': 0.151535283857884,\n",
              " 'min_child_weight': 2,\n",
              " 'reg_alpha': 0.4100621538162067,\n",
              " 'reg_lambda': 0.07402584158642962}"
            ]
          },
          "metadata": {},
          "execution_count": 32
        }
      ]
    },
    {
      "cell_type": "markdown",
      "source": [
        "**Best values (accuracy)**"
      ],
      "metadata": {
        "id": "ZeXmTUVTCbuK"
      }
    },
    {
      "cell_type": "code",
      "source": [
        "study.best_value"
      ],
      "metadata": {
        "colab": {
          "base_uri": "https://localhost:8080/"
        },
        "id": "VOcJ36oAB8kZ",
        "outputId": "c5ea04e8-f2f9-4349-b21b-3f259a2d2c42"
      },
      "execution_count": 33,
      "outputs": [
        {
          "output_type": "execute_result",
          "data": {
            "text/plain": [
              "0.9713028505835087"
            ]
          },
          "metadata": {},
          "execution_count": 33
        }
      ]
    },
    {
      "cell_type": "code",
      "source": [
        "from sklearn.metrics import roc_curve, auc\n",
        "import matplotlib.pyplot as plt\n",
        "from xgboost import XGBClassifier\n",
        "\n",
        "# Train XGBoostClassifier with best parameters\n",
        "best_xgb_params = study.best_params\n",
        "best_xgb_model = XGBClassifier(**best_xgb_params)\n",
        "best_xgb_model.fit(x_train, y_train)\n",
        "\n",
        "# Predict probabilities on the test set\n",
        "y_pred_proba_xgb = best_xgb_model.predict_proba(x_test)[:, 1]\n",
        "\n",
        "# Calculate ROC curve and AUC\n",
        "fpr_xgb, tpr_xgb, thresholds_xgb = roc_curve(y_test, y_pred_proba_xgb)\n",
        "roc_auc_xgb = auc(fpr_xgb, tpr_xgb)\n",
        "\n",
        "# Plot the ROC curve\n",
        "plt.figure()\n",
        "plt.plot(fpr_xgb, tpr_xgb, color='blue', lw=2, label='XGBoost ROC curve (area = %0.2f)' % roc_auc_xgb)\n",
        "plt.plot([0, 1], [0, 1], color='navy', lw=2, linestyle='--')\n",
        "plt.xlim([0.0, 1.0])\n",
        "plt.ylim([0.0, 1.05])\n",
        "plt.xlabel('False Positive Rate')\n",
        "plt.ylabel('True Positive Rate')\n",
        "plt.title('Receiver Operating Characteristic (ROC) Curve - XGBoost')\n",
        "plt.legend(loc=\"lower right\")\n",
        "plt.show()"
      ],
      "metadata": {
        "colab": {
          "base_uri": "https://localhost:8080/",
          "height": 472
        },
        "id": "Q-7sD0lPDMgA",
        "outputId": "b28e41dd-50cc-4bf7-b4b9-fd6b3c4ef8ff"
      },
      "execution_count": 37,
      "outputs": [
        {
          "output_type": "display_data",
          "data": {
            "text/plain": [
              "<Figure size 640x480 with 1 Axes>"
            ],
            "image/png": "[encoded data removed]"
          },
          "metadata": {}
        }
      ]
    },
    {
      "cell_type": "code",
      "source": [
        "from sklearn.metrics import precision_recall_curve, auc\n",
        "import matplotlib.pyplot as plt\n",
        "from xgboost import XGBClassifier\n",
        "\n",
        "# Train XGBoostClassifier with best parameters (assuming study object is available from previous steps)\n",
        "best_xgb_params = study.best_params\n",
        "best_xgb_model = XGBClassifier(**best_xgb_params)\n",
        "best_xgb_model.fit(x_train, y_train)\n",
        "\n",
        "# Predict probabilities on the test set\n",
        "y_pred_proba_xgb = best_xgb_model.predict_proba(x_test)[:, 1]\n",
        "\n",
        "# Calculate precision and recall\n",
        "precision_xgb, recall_xgb, _ = precision_recall_curve(y_test, y_pred_proba_xgb)\n",
        "\n",
        "# Calculate the area under the precision-recall curve\n",
        "pr_auc_xgb = auc(recall_xgb, precision_xgb)\n",
        "\n",
        "# Plot the Precision-Recall curve\n",
        "plt.figure()\n",
        "plt.plot(recall_xgb, precision_xgb, color='blue', lw=2, label='XGBoost Precision-Recall curve (area = %0.2f)' % pr_auc_xgb)\n",
        "plt.xlim([0.0, 1.0])\n",
        "plt.ylim([0.0, 1.05])\n",
        "plt.xlabel('Recall')\n",
        "plt.ylabel('Precision')\n",
        "plt.title('Precision-Recall Curve - XGBoost')\n",
        "plt.legend(loc=\"lower right\")\n",
        "plt.show()"
      ],
      "metadata": {
        "colab": {
          "base_uri": "https://localhost:8080/",
          "height": 472
        },
        "id": "cIc1PCVSDjk-",
        "outputId": "525186fd-6853-4f97-ea6f-4e611370407d"
      },
      "execution_count": 38,
      "outputs": [
        {
          "output_type": "display_data",
          "data": {
            "text/plain": [
              "<Figure size 640x480 with 1 Axes>"
            ],
            "image/png": "[encoded data removed]"
          },
          "metadata": {}
        }
      ]
    }
  ]
}