{
  "nbformat": 4,
  "nbformat_minor": 0,
  "metadata": {
    "colab": {
      "provenance": []
    },
    "kernelspec": {
      "name": "python3",
      "display_name": "Python 3"
    },
    "language_info": {
      "name": "python"
    }
  },
  "cells": [
    {
      "cell_type": "code",
      "source": [
        "#requrements\n",
        "import sys\n",
        "import pandas as pd\n",
        "from datetime import datetime\n",
        "import sklearn\n",
        "from sklearn.metrics import f1_score, precision_score, recall_score, accuracy_score, matthews_corrcoef\n",
        "from sklearn.model_selection import cross_validate\n",
        "from sklearn.metrics import make_scorer\n",
        "from sklearn.model_selection import StratifiedKFold\n",
        "from sklearn.ensemble import RandomForestClassifier"
      ],
      "metadata": {
        "id": "xAzkqs5O0nY6"
      },
      "execution_count": 1,
      "outputs": []
    },
    {
      "cell_type": "markdown",
      "source": [
        "Raw data taken from https://github.com/HUBioDataLab/DrugApp (thanks for data)"
      ],
      "metadata": {
        "id": "xd86OpH3Eimh"
      }
    },
    {
      "cell_type": "code",
      "source": [
        "import requests\n",
        "from io import StringIO\n",
        "\n",
        "# URL of the raw CSV file on GitHub\n",
        "url = \"https://raw.githubusercontent.com/HUBioDataLab/DrugApp/main/datasets/training_datasets/All_drug_indication_raw_features.csv\"\n",
        "\n",
        "# Download the content of the file\n",
        "response = requests.get(url)\n",
        "\n",
        "# Check if the request was successful (status code 200)\n",
        "if response.status_code == 200:\n",
        "    # Read the content into a pandas DataFrame\n",
        "    all_drugs = pd.read_csv(StringIO(response.text))\n",
        "    print(\"Successfully loaded data from GitHub into the 'all_drugs' DataFrame.\")\n",
        "else:\n",
        "    print(f\"Failed to download the file. Status code: {response.status_code}\")"
      ],
      "metadata": {
        "colab": {
          "base_uri": "https://localhost:8080/"
        },
        "id": "p67cUSr88f6A",
        "outputId": "36e3285c-0061-4cc4-8668-c3b46c037c88"
      },
      "execution_count": 5,
      "outputs": [
        {
          "output_type": "stream",
          "name": "stdout",
          "text": [
            "Successfully loaded data from GitHub into the 'all_drugs' DataFrame.\n"
          ]
        },
        {
          "output_type": "stream",
          "name": "stderr",
          "text": [
            "/tmp/ipython-input-4221541068.py:13: DtypeWarning: Columns (2,4) have mixed types. Specify dtype option on import or set low_memory=False.\n",
            "  all_drugs = pd.read_csv(StringIO(response.text))\n"
          ]
        }
      ]
    },
    {
      "cell_type": "code",
      "source": [
        "display(all_drugs.head())"
      ],
      "metadata": {
        "colab": {
          "base_uri": "https://localhost:8080/",
          "height": 811
        },
        "id": "_wNe_aSz9Gzt",
        "outputId": "4950feb9-7de5-423b-9808-3b0655af8c3c"
      },
      "execution_count": 6,
      "outputs": [
        {
          "output_type": "display_data",
          "data": {
            "text/plain": [
              "                                              SMILES  Label DrugBank ID  \\\n",
              "0  CC[C@H](C)[C@H](NC(=O)[C@H](CCC(=O)O)NC(=O)[C@...      1     DB00006   \n",
              "1  CC[C@H](C)[C@H](NC(=O)[C@H](CCC(=O)O)NC(=O)[C@...      1     DB00006   \n",
              "2  CC[C@H](C)[C@H](NC(=O)[C@H](CCC(=O)O)NC(=O)[C@...      1     DB00006   \n",
              "3  CC[C@H](C)[C@H](NC(=O)[C@H](CCC(=O)O)NC(=O)[C@...      1     DB00006   \n",
              "4  CC[C@H](C)[C@H](NC(=O)[C@H](CCC(=O)O)NC(=O)[C@...      1     DB00006   \n",
              "\n",
              "            Name  Patent_id          Status   NCT_Number  \\\n",
              "0  __BIVALIRUDIN  5196404.0       Completed  NCT00759083   \n",
              "1  __BIVALIRUDIN  5196404.0      Recruiting  NCT03318393   \n",
              "2  __BIVALIRUDIN  5196404.0      Recruiting  NCT04445935   \n",
              "3  __BIVALIRUDIN  5196404.0       Completed  NCT00262054   \n",
              "4  __BIVALIRUDIN  5196404.0  Unknown status  NCT03588611   \n",
              "\n",
              "                                          Conditions Gender  \\\n",
              "0  HEPARIN-INDUCED THROMBOCYTOPENIA|HEPARIN-INDUC...    All   \n",
              "1  EXTRACORPOREAL MEMBRANE OXYGENATION COMPLICATI...    All   \n",
              "2                   ANTICOAGULATION IN COVID-19 ARDS    All   \n",
              "3                   CORONARY DISEASE|ANGINA PECTORIS    All   \n",
              "4                            ACUTE CORONARY SYNDROME    All   \n",
              "\n",
              "                                         Age_y  ... ECFP4.119 ECFP4.120  \\\n",
              "0    18 Years and older   (Adult, Older Adult)  ...         0         1   \n",
              "1              up to 18 Years   (Child, Adult)  ...         0         1   \n",
              "2  18 Years to 99 Years   (Adult, Older Adult)  ...         0         1   \n",
              "3    18 Years and older   (Adult, Older Adult)  ...         0         1   \n",
              "4  18 Years to 80 Years   (Adult, Older Adult)  ...         0         1   \n",
              "\n",
              "  ECFP4.121 ECFP4.122  ECFP4.123  ECFP4.124  ECFP4.125  ECFP4.126  ECFP4.127  \\\n",
              "0         1         1          1          1          0          1          1   \n",
              "1         1         1          1          1          0          1          1   \n",
              "2         1         1          1          1          0          1          1   \n",
              "3         1         1          1          1          0          1          1   \n",
              "4         1         1          1          1          0          1          1   \n",
              "\n",
              "   ECFP4.128  \n",
              "0          0  \n",
              "1          0  \n",
              "2          0  \n",
              "3          0  \n",
              "4          0  \n",
              "\n",
              "[5 rows x 198 columns]"
            ],
            "text/html": [
              "\n",
              "  <div id=\"df-27f2da47-ab0e-4694-842c-bc4eec916bfe\" class=\"colab-df-container\">\n",
              "    <div>\n",
              "<style scoped>\n",
              "    .dataframe tbody tr th:only-of-type {\n",
              "        vertical-align: middle;\n",
              "    }\n",
              "\n",
              "    .dataframe tbody tr th {\n",
              "        vertical-align: top;\n",
              "    }\n",
              "\n",
              "    .dataframe thead th {\n",
              "        text-align: right;\n",
              "    }\n",
              "</style>\n",
              "<table border=\"1\" class=\"dataframe\">\n",
              "  <thead>\n",
              "    <tr style=\"text-align: right;\">\n",
              "      <th></th>\n",
              "      <th>SMILES</th>\n",
              "      <th>Label</th>\n",
              "      <th>DrugBank ID</th>\n",
              "      <th>Name</th>\n",
              "      <th>Patent_id</th>\n",
              "      <th>Status</th>\n",
              "      <th>NCT_Number</th>\n",
              "      <th>Conditions</th>\n",
              "      <th>Gender</th>\n",
              "      <th>Age_y</th>\n",
              "      <th>...</th>\n",
              "      <th>ECFP4.119</th>\n",
              "      <th>ECFP4.120</th>\n",
              "      <th>ECFP4.121</th>\n",
              "      <th>ECFP4.122</th>\n",
              "      <th>ECFP4.123</th>\n",
              "      <th>ECFP4.124</th>\n",
              "      <th>ECFP4.125</th>\n",
              "      <th>ECFP4.126</th>\n",
              "      <th>ECFP4.127</th>\n",
              "      <th>ECFP4.128</th>\n",
              "    </tr>\n",
              "  </thead>\n",
              "  <tbody>\n",
              "    <tr>\n",
              "      <th>0</th>\n",
              "      <td>CC[C@H](C)[C@H](NC(=O)[C@H](CCC(=O)O)NC(=O)[C@...</td>\n",
              "      <td>1</td>\n",
              "      <td>DB00006</td>\n",
              "      <td>__BIVALIRUDIN</td>\n",
              "      <td>5196404.0</td>\n",
              "      <td>Completed</td>\n",
              "      <td>NCT00759083</td>\n",
              "      <td>HEPARIN-INDUCED THROMBOCYTOPENIA|HEPARIN-INDUC...</td>\n",
              "      <td>All</td>\n",
              "      <td>18 Years and older   (Adult, Older Adult)</td>\n",
              "      <td>...</td>\n",
              "      <td>0</td>\n",
              "      <td>1</td>\n",
              "      <td>1</td>\n",
              "      <td>1</td>\n",
              "      <td>1</td>\n",
              "      <td>1</td>\n",
              "      <td>0</td>\n",
              "      <td>1</td>\n",
              "      <td>1</td>\n",
              "      <td>0</td>\n",
              "    </tr>\n",
              "    <tr>\n",
              "      <th>1</th>\n",
              "      <td>CC[C@H](C)[C@H](NC(=O)[C@H](CCC(=O)O)NC(=O)[C@...</td>\n",
              "      <td>1</td>\n",
              "      <td>DB00006</td>\n",
              "      <td>__BIVALIRUDIN</td>\n",
              "      <td>5196404.0</td>\n",
              "      <td>Recruiting</td>\n",
              "      <td>NCT03318393</td>\n",
              "      <td>EXTRACORPOREAL MEMBRANE OXYGENATION COMPLICATI...</td>\n",
              "      <td>All</td>\n",
              "      <td>up to 18 Years   (Child, Adult)</td>\n",
              "      <td>...</td>\n",
              "      <td>0</td>\n",
              "      <td>1</td>\n",
              "      <td>1</td>\n",
              "      <td>1</td>\n",
              "      <td>1</td>\n",
              "      <td>1</td>\n",
              "      <td>0</td>\n",
              "      <td>1</td>\n",
              "      <td>1</td>\n",
              "      <td>0</td>\n",
              "    </tr>\n",
              "    <tr>\n",
              "      <th>2</th>\n",
              "      <td>CC[C@H](C)[C@H](NC(=O)[C@H](CCC(=O)O)NC(=O)[C@...</td>\n",
              "      <td>1</td>\n",
              "      <td>DB00006</td>\n",
              "      <td>__BIVALIRUDIN</td>\n",
              "      <td>5196404.0</td>\n",
              "      <td>Recruiting</td>\n",
              "      <td>NCT04445935</td>\n",
              "      <td>ANTICOAGULATION IN COVID-19 ARDS</td>\n",
              "      <td>All</td>\n",
              "      <td>18 Years to 99 Years   (Adult, Older Adult)</td>\n",
              "      <td>...</td>\n",
              "      <td>0</td>\n",
              "      <td>1</td>\n",
              "      <td>1</td>\n",
              "      <td>1</td>\n",
              "      <td>1</td>\n",
              "      <td>1</td>\n",
              "      <td>0</td>\n",
              "      <td>1</td>\n",
              "      <td>1</td>\n",
              "      <td>0</td>\n",
              "    </tr>\n",
              "    <tr>\n",
              "      <th>3</th>\n",
              "      <td>CC[C@H](C)[C@H](NC(=O)[C@H](CCC(=O)O)NC(=O)[C@...</td>\n",
              "      <td>1</td>\n",
              "      <td>DB00006</td>\n",
              "      <td>__BIVALIRUDIN</td>\n",
              "      <td>5196404.0</td>\n",
              "      <td>Completed</td>\n",
              "      <td>NCT00262054</td>\n",
              "      <td>CORONARY DISEASE|ANGINA PECTORIS</td>\n",
              "      <td>All</td>\n",
              "      <td>18 Years and older   (Adult, Older Adult)</td>\n",
              "      <td>...</td>\n",
              "      <td>0</td>\n",
              "      <td>1</td>\n",
              "      <td>1</td>\n",
              "      <td>1</td>\n",
              "      <td>1</td>\n",
              "      <td>1</td>\n",
              "      <td>0</td>\n",
              "      <td>1</td>\n",
              "      <td>1</td>\n",
              "      <td>0</td>\n",
              "    </tr>\n",
              "    <tr>\n",
              "      <th>4</th>\n",
              "      <td>CC[C@H](C)[C@H](NC(=O)[C@H](CCC(=O)O)NC(=O)[C@...</td>\n",
              "      <td>1</td>\n",
              "      <td>DB00006</td>\n",
              "      <td>__BIVALIRUDIN</td>\n",
              "      <td>5196404.0</td>\n",
              "      <td>Unknown status</td>\n",
              "      <td>NCT03588611</td>\n",
              "      <td>ACUTE CORONARY SYNDROME</td>\n",
              "      <td>All</td>\n",
              "      <td>18 Years to 80 Years   (Adult, Older Adult)</td>\n",
              "      <td>...</td>\n",
              "      <td>0</td>\n",
              "      <td>1</td>\n",
              "      <td>1</td>\n",
              "      <td>1</td>\n",
              "      <td>1</td>\n",
              "      <td>1</td>\n",
              "      <td>0</td>\n",
              "      <td>1</td>\n",
              "      <td>1</td>\n",
              "      <td>0</td>\n",
              "    </tr>\n",
              "  </tbody>\n",
              "</table>\n",
              "<p>5 rows × 198 columns</p>\n",
              "</div>\n",
              "    <div class=\"colab-df-buttons\">\n",
              "\n",
              "  <div class=\"colab-df-container\">\n",
              "    <button class=\"colab-df-convert\" onclick=\"convertToInteractive('df-27f2da47-ab0e-4694-842c-bc4eec916bfe')\"\n",
              "            title=\"Convert this dataframe to an interactive table.\"\n",
              "            style=\"display:none;\">\n",
              "\n",
              "  <svg xmlns=\"http://www.w3.org/2000/svg\" height=\"24px\" viewBox=\"0 -960 960 960\">\n",
              "    <path d=\"M120-120v-720h720v720H120Zm60-500h600v-160H180v160Zm220 220h160v-160H400v160Zm0 220h160v-160H400v160ZM180-400h160v-160H180v160Zm440 0h160v-160H620v160ZM180-180h160v-160H180v160Zm440 0h160v-160H620v160Z\"/>\n",
              "  </svg>\n",
              "    </button>\n",
              "\n",
              "  <style>\n",
              "    .colab-df-container {\n",
              "      display:flex;\n",
              "      gap: 12px;\n",
              "    }\n",
              "\n",
              "    .colab-df-convert {\n",
              "      background-color: #E8F0FE;\n",
              "      border: none;\n",
              "      border-radius: 50%;\n",
              "      cursor: pointer;\n",
              "      display: none;\n",
              "      fill: #1967D2;\n",
              "      height: 32px;\n",
              "      padding: 0 0 0 0;\n",
              "      width: 32px;\n",
              "    }\n",
              "\n",
              "    .colab-df-convert:hover {\n",
              "      background-color: #E2EBFA;\n",
              "      box-shadow: 0px 1px 2px rgba(60, 64, 67, 0.3), 0px 1px 3px 1px rgba(60, 64, 67, 0.15);\n",
              "      fill: #174EA6;\n",
              "    }\n",
              "\n",
              "    .colab-df-buttons div {\n",
              "      margin-bottom: 4px;\n",
              "    }\n",
              "\n",
              "    [theme=dark] .colab-df-convert {\n",
              "      background-color: #3B4455;\n",
              "      fill: #D2E3FC;\n",
              "    }\n",
              "\n",
              "    [theme=dark] .colab-df-convert:hover {\n",
              "      background-color: #434B5C;\n",
              "      box-shadow: 0px 1px 3px 1px rgba(0, 0, 0, 0.15);\n",
              "      filter: drop-shadow(0px 1px 2px rgba(0, 0, 0, 0.3));\n",
              "      fill: #FFFFFF;\n",
              "    }\n",
              "  </style>\n",
              "\n",
              "    <script>\n",
              "      const buttonEl =\n",
              "        document.querySelector('#df-27f2da47-ab0e-4694-842c-bc4eec916bfe button.colab-df-convert');\n",
              "      buttonEl.style.display =\n",
              "        google.colab.kernel.accessAllowed ? 'block' : 'none';\n",
              "\n",
              "      async function convertToInteractive(key) {\n",
              "        const element = document.querySelector('#df-27f2da47-ab0e-4694-842c-bc4eec916bfe');\n",
              "        const dataTable =\n",
              "          await google.colab.kernel.invokeFunction('convertToInteractive',\n",
              "                                                    [key], {});\n",
              "        if (!dataTable) return;\n",
              "\n",
              "        const docLinkHtml = 'Like what you see? Visit the ' +\n",
              "          '<a target=\"_blank\" href=https://colab.research.google.com/notebooks/data_table.ipynb>data table notebook</a>'\n",
              "          + ' to learn more about interactive tables.';\n",
              "        element.innerHTML = '';\n",
              "        dataTable['output_type'] = 'display_data';\n",
              "        await google.colab.output.renderOutput(dataTable, element);\n",
              "        const docLink = document.createElement('div');\n",
              "        docLink.innerHTML = docLinkHtml;\n",
              "        element.appendChild(docLink);\n",
              "      }\n",
              "    </script>\n",
              "  </div>\n",
              "\n",
              "\n",
              "    <div id=\"df-6e5b7980-9356-4d11-a4ec-fd7d4021a7ba\">\n",
              "      <button class=\"colab-df-quickchart\" onclick=\"quickchart('df-6e5b7980-9356-4d11-a4ec-fd7d4021a7ba')\"\n",
              "                title=\"Suggest charts\"\n",
              "                style=\"display:none;\">\n",
              "\n",
              "<svg xmlns=\"http://www.w3.org/2000/svg\" height=\"24px\"viewBox=\"0 0 24 24\"\n",
              "     width=\"24px\">\n",
              "    <g>\n",
              "        <path d=\"M19 3H5c-1.1 0-2 .9-2 2v14c0 1.1.9 2 2 2h14c1.1 0 2-.9 2-2V5c0-1.1-.9-2-2-2zM9 17H7v-7h2v7zm4 0h-2V7h2v10zm4 0h-2v-4h2v4z\"/>\n",
              "    </g>\n",
              "</svg>\n",
              "      </button>\n",
              "\n",
              "<style>\n",
              "  .colab-df-quickchart {\n",
              "      --bg-color: #E8F0FE;\n",
              "      --fill-color: #1967D2;\n",
              "      --hover-bg-color: #E2EBFA;\n",
              "      --hover-fill-color: #174EA6;\n",
              "      --disabled-fill-color: #AAA;\n",
              "      --disabled-bg-color: #DDD;\n",
              "  }\n",
              "\n",
              "  [theme=dark] .colab-df-quickchart {\n",
              "      --bg-color: #3B4455;\n",
              "      --fill-color: #D2E3FC;\n",
              "      --hover-bg-color: #434B5C;\n",
              "      --hover-fill-color: #FFFFFF;\n",
              "      --disabled-bg-color: #3B4455;\n",
              "      --disabled-fill-color: #666;\n",
              "  }\n",
              "\n",
              "  .colab-df-quickchart {\n",
              "    background-color: var(--bg-color);\n",
              "    border: none;\n",
              "    border-radius: 50%;\n",
              "    cursor: pointer;\n",
              "    display: none;\n",
              "    fill: var(--fill-color);\n",
              "    height: 32px;\n",
              "    padding: 0;\n",
              "    width: 32px;\n",
              "  }\n",
              "\n",
              "  .colab-df-quickchart:hover {\n",
              "    background-color: var(--hover-bg-color);\n",
              "    box-shadow: 0 1px 2px rgba(60, 64, 67, 0.3), 0 1px 3px 1px rgba(60, 64, 67, 0.15);\n",
              "    fill: var(--button-hover-fill-color);\n",
              "  }\n",
              "\n",
              "  .colab-df-quickchart-complete:disabled,\n",
              "  .colab-df-quickchart-complete:disabled:hover {\n",
              "    background-color: var(--disabled-bg-color);\n",
              "    fill: var(--disabled-fill-color);\n",
              "    box-shadow: none;\n",
              "  }\n",
              "\n",
              "  .colab-df-spinner {\n",
              "    border: 2px solid var(--fill-color);\n",
              "    border-color: transparent;\n",
              "    border-bottom-color: var(--fill-color);\n",
              "    animation:\n",
              "      spin 1s steps(1) infinite;\n",
              "  }\n",
              "\n",
              "  @keyframes spin {\n",
              "    0% {\n",
              "      border-color: transparent;\n",
              "      border-bottom-color: var(--fill-color);\n",
              "      border-left-color: var(--fill-color);\n",
              "    }\n",
              "    20% {\n",
              "      border-color: transparent;\n",
              "      border-left-color: var(--fill-color);\n",
              "      border-top-color: var(--fill-color);\n",
              "    }\n",
              "    30% {\n",
              "      border-color: transparent;\n",
              "      border-left-color: var(--fill-color);\n",
              "      border-top-color: var(--fill-color);\n",
              "      border-right-color: var(--fill-color);\n",
              "    }\n",
              "    40% {\n",
              "      border-color: transparent;\n",
              "      border-right-color: var(--fill-color);\n",
              "      border-top-color: var(--fill-color);\n",
              "    }\n",
              "    60% {\n",
              "      border-color: transparent;\n",
              "      border-right-color: var(--fill-color);\n",
              "    }\n",
              "    80% {\n",
              "      border-color: transparent;\n",
              "      border-right-color: var(--fill-color);\n",
              "      border-bottom-color: var(--fill-color);\n",
              "    }\n",
              "    90% {\n",
              "      border-color: transparent;\n",
              "      border-bottom-color: var(--fill-color);\n",
              "    }\n",
              "  }\n",
              "</style>\n",
              "\n",
              "      <script>\n",
              "        async function quickchart(key) {\n",
              "          const quickchartButtonEl =\n",
              "            document.querySelector('#' + key + ' button');\n",
              "          quickchartButtonEl.disabled = true;  // To prevent multiple clicks.\n",
              "          quickchartButtonEl.classList.add('colab-df-spinner');\n",
              "          try {\n",
              "            const charts = await google.colab.kernel.invokeFunction(\n",
              "                'suggestCharts', [key], {});\n",
              "          } catch (error) {\n",
              "            console.error('Error during call to suggestCharts:', error);\n",
              "          }\n",
              "          quickchartButtonEl.classList.remove('colab-df-spinner');\n",
              "          quickchartButtonEl.classList.add('colab-df-quickchart-complete');\n",
              "        }\n",
              "        (() => {\n",
              "          let quickchartButtonEl =\n",
              "            document.querySelector('#df-6e5b7980-9356-4d11-a4ec-fd7d4021a7ba button');\n",
              "          quickchartButtonEl.style.display =\n",
              "            google.colab.kernel.accessAllowed ? 'block' : 'none';\n",
              "        })();\n",
              "      </script>\n",
              "    </div>\n",
              "\n",
              "    </div>\n",
              "  </div>\n"
            ],
            "application/vnd.google.colaboratory.intrinsic+json": {
              "type": "dataframe"
            }
          },
          "metadata": {}
        }
      ]
    },
    {
      "cell_type": "code",
      "source": [
        "all_drugs['Label'].value_counts() # 1= approved,0 unapproved drug"
      ],
      "metadata": {
        "colab": {
          "base_uri": "https://localhost:8080/",
          "height": 178
        },
        "id": "fjxYSxf7IyXy",
        "outputId": "4163fe5d-0bc2-487e-ff81-96fae7e51b08"
      },
      "execution_count": 7,
      "outputs": [
        {
          "output_type": "execute_result",
          "data": {
            "text/plain": [
              "Label\n",
              "1    18427\n",
              "0     2480\n",
              "Name: count, dtype: int64"
            ],
            "text/html": [
              "<div>\n",
              "<style scoped>\n",
              "    .dataframe tbody tr th:only-of-type {\n",
              "        vertical-align: middle;\n",
              "    }\n",
              "\n",
              "    .dataframe tbody tr th {\n",
              "        vertical-align: top;\n",
              "    }\n",
              "\n",
              "    .dataframe thead th {\n",
              "        text-align: right;\n",
              "    }\n",
              "</style>\n",
              "<table border=\"1\" class=\"dataframe\">\n",
              "  <thead>\n",
              "    <tr style=\"text-align: right;\">\n",
              "      <th></th>\n",
              "      <th>count</th>\n",
              "    </tr>\n",
              "    <tr>\n",
              "      <th>Label</th>\n",
              "      <th></th>\n",
              "    </tr>\n",
              "  </thead>\n",
              "  <tbody>\n",
              "    <tr>\n",
              "      <th>1</th>\n",
              "      <td>18427</td>\n",
              "    </tr>\n",
              "    <tr>\n",
              "      <th>0</th>\n",
              "      <td>2480</td>\n",
              "    </tr>\n",
              "  </tbody>\n",
              "</table>\n",
              "</div><br><label><b>dtype:</b> int64</label>"
            ]
          },
          "metadata": {},
          "execution_count": 7
        }
      ]
    },
    {
      "cell_type": "code",
      "metadata": {
        "colab": {
          "base_uri": "https://localhost:8080/"
        },
        "id": "01b22391",
        "outputId": "f79f7d33-c94a-4cb6-8807-ce89f1872b25"
      },
      "source": [
        "for col in all_drugs.columns:\n",
        "    print(col)"
      ],
      "execution_count": 8,
      "outputs": [
        {
          "output_type": "stream",
          "name": "stdout",
          "text": [
            "SMILES\n",
            "Label\n",
            "DrugBank ID\n",
            "Name\n",
            "Patent_id\n",
            "Status\n",
            "NCT_Number\n",
            "Conditions\n",
            "Gender\n",
            "Age_y\n",
            "Funder_Type\n",
            "Study Designs\n",
            "Locations\n",
            "CPC\n",
            "Gender_code_0\n",
            "Gender_code_1\n",
            "Gender_code_2\n",
            "Gender_code_3\n",
            "Age_code_0\n",
            "Age_code_1\n",
            "Age_code_2\n",
            "Age_code_3\n",
            "Age_code_4\n",
            "Age_code_5\n",
            "Allocation_Type_0\n",
            "Allocation_Type_1\n",
            "Allocation_Type_2\n",
            "Allocation_Type_3\n",
            "Intervention_Model_0\n",
            "Intervention_Model_1\n",
            "Intervention_Model_2\n",
            "Intervention_Model_3\n",
            "Intervention_Model_4\n",
            "Intervention_Model_5\n",
            "Country_0\n",
            "Country_1\n",
            "Country_2\n",
            "Country_3\n",
            "Country_4\n",
            "Country_5\n",
            "Funder_Type_0\n",
            "Funder_Type_1\n",
            "Funder_Type_2\n",
            "Funder_Type_3\n",
            "Funder_Type_4\n",
            "Funder_Type_5\n",
            "claims_#\n",
            "Duration\n",
            "Patent_#\n",
            "PCT_code_0\n",
            "PCT_code_1\n",
            "PCT_code_2\n",
            "CPC_code_0\n",
            "CPC_code_1\n",
            "CPC_code_2\n",
            "CPC_code_3\n",
            "CPC_code_4\n",
            "CPC_code_5\n",
            "logP\n",
            "MW\n",
            "PSA\n",
            "HBA\n",
            "HBD\n",
            "Rings\n",
            "Polarizability\n",
            "Refractivity\n",
            "Bond_#\n",
            "Bioavailability_0\n",
            "Bioavailability_1\n",
            "Bioavailability_2\n",
            "ECFP4.1\n",
            "ECFP4.2\n",
            "ECFP4.3\n",
            "ECFP4.4\n",
            "ECFP4.5\n",
            "ECFP4.6\n",
            "ECFP4.7\n",
            "ECFP4.8\n",
            "ECFP4.9\n",
            "ECFP4.10\n",
            "ECFP4.11\n",
            "ECFP4.12\n",
            "ECFP4.13\n",
            "ECFP4.14\n",
            "ECFP4.15\n",
            "ECFP4.16\n",
            "ECFP4.17\n",
            "ECFP4.18\n",
            "ECFP4.19\n",
            "ECFP4.20\n",
            "ECFP4.21\n",
            "ECFP4.22\n",
            "ECFP4.23\n",
            "ECFP4.24\n",
            "ECFP4.25\n",
            "ECFP4.26\n",
            "ECFP4.27\n",
            "ECFP4.28\n",
            "ECFP4.29\n",
            "ECFP4.30\n",
            "ECFP4.31\n",
            "ECFP4.32\n",
            "ECFP4.33\n",
            "ECFP4.34\n",
            "ECFP4.35\n",
            "ECFP4.36\n",
            "ECFP4.37\n",
            "ECFP4.38\n",
            "ECFP4.39\n",
            "ECFP4.40\n",
            "ECFP4.41\n",
            "ECFP4.42\n",
            "ECFP4.43\n",
            "ECFP4.44\n",
            "ECFP4.45\n",
            "ECFP4.46\n",
            "ECFP4.47\n",
            "ECFP4.48\n",
            "ECFP4.49\n",
            "ECFP4.50\n",
            "ECFP4.51\n",
            "ECFP4.52\n",
            "ECFP4.53\n",
            "ECFP4.54\n",
            "ECFP4.55\n",
            "ECFP4.56\n",
            "ECFP4.57\n",
            "ECFP4.58\n",
            "ECFP4.59\n",
            "ECFP4.60\n",
            "ECFP4.61\n",
            "ECFP4.62\n",
            "ECFP4.63\n",
            "ECFP4.64\n",
            "ECFP4.65\n",
            "ECFP4.66\n",
            "ECFP4.67\n",
            "ECFP4.68\n",
            "ECFP4.69\n",
            "ECFP4.70\n",
            "ECFP4.71\n",
            "ECFP4.72\n",
            "ECFP4.73\n",
            "ECFP4.74\n",
            "ECFP4.75\n",
            "ECFP4.76\n",
            "ECFP4.77\n",
            "ECFP4.78\n",
            "ECFP4.79\n",
            "ECFP4.80\n",
            "ECFP4.81\n",
            "ECFP4.82\n",
            "ECFP4.83\n",
            "ECFP4.84\n",
            "ECFP4.85\n",
            "ECFP4.86\n",
            "ECFP4.87\n",
            "ECFP4.88\n",
            "ECFP4.89\n",
            "ECFP4.90\n",
            "ECFP4.91\n",
            "ECFP4.92\n",
            "ECFP4.93\n",
            "ECFP4.94\n",
            "ECFP4.95\n",
            "ECFP4.96\n",
            "ECFP4.97\n",
            "ECFP4.98\n",
            "ECFP4.99\n",
            "ECFP4.100\n",
            "ECFP4.101\n",
            "ECFP4.102\n",
            "ECFP4.103\n",
            "ECFP4.104\n",
            "ECFP4.105\n",
            "ECFP4.106\n",
            "ECFP4.107\n",
            "ECFP4.108\n",
            "ECFP4.109\n",
            "ECFP4.110\n",
            "ECFP4.111\n",
            "ECFP4.112\n",
            "ECFP4.113\n",
            "ECFP4.114\n",
            "ECFP4.115\n",
            "ECFP4.116\n",
            "ECFP4.117\n",
            "ECFP4.118\n",
            "ECFP4.119\n",
            "ECFP4.120\n",
            "ECFP4.121\n",
            "ECFP4.122\n",
            "ECFP4.123\n",
            "ECFP4.124\n",
            "ECFP4.125\n",
            "ECFP4.126\n",
            "ECFP4.127\n",
            "ECFP4.128\n"
          ]
        }
      ]
    },
    {
      "cell_type": "code",
      "source": [
        "all_drugs['Conditions'].value_counts() # therapy/indication coverage"
      ],
      "metadata": {
        "colab": {
          "base_uri": "https://localhost:8080/",
          "height": 489
        },
        "id": "sJx516PA5-Wm",
        "outputId": "b24318c0-ffe9-417c-976f-a0b8051a5182"
      },
      "execution_count": 9,
      "outputs": [
        {
          "output_type": "execute_result",
          "data": {
            "text/plain": [
              "Conditions\n",
              "HIV INFECTION                                                                                  107\n",
              "TYPE 2 DIABETES                                                                                 98\n",
              "HYPERTENSION                                                                                    95\n",
              "SCHIZOPHRENIA                                                                                   93\n",
              "CORONARY ARTERY DISEASE                                                                         89\n",
              "                                                                                              ... \n",
              "ST-SEGMENT ELEVATION MYOCARDIAL INFARCTION|NON ST-SEGMENT ELEVATION MYOCARDIAL INFARCTION        1\n",
              "HEALTHY NON-SMOKERS|CURRENT SMOKERS|COPD PATIENTS                                                1\n",
              "UNCOMPLICATED FALCIPARUM MALARIA|ARTEMISININ-RESISTANT                                           1\n",
              "CARDIOTHORACIC SURGERY|VASCULAR SURGERY                                                          1\n",
              "STAGE 5 CHRONIC KIDNEY DISEASE (CKD)|SECONDARY HYPERPARATHYROIDISM (SHPT)|HEMODIALYSIS (HD)      1\n",
              "Name: count, Length: 8324, dtype: int64"
            ],
            "text/html": [
              "<div>\n",
              "<style scoped>\n",
              "    .dataframe tbody tr th:only-of-type {\n",
              "        vertical-align: middle;\n",
              "    }\n",
              "\n",
              "    .dataframe tbody tr th {\n",
              "        vertical-align: top;\n",
              "    }\n",
              "\n",
              "    .dataframe thead th {\n",
              "        text-align: right;\n",
              "    }\n",
              "</style>\n",
              "<table border=\"1\" class=\"dataframe\">\n",
              "  <thead>\n",
              "    <tr style=\"text-align: right;\">\n",
              "      <th></th>\n",
              "      <th>count</th>\n",
              "    </tr>\n",
              "    <tr>\n",
              "      <th>Conditions</th>\n",
              "      <th></th>\n",
              "    </tr>\n",
              "  </thead>\n",
              "  <tbody>\n",
              "    <tr>\n",
              "      <th>HIV INFECTION</th>\n",
              "      <td>107</td>\n",
              "    </tr>\n",
              "    <tr>\n",
              "      <th>TYPE 2 DIABETES</th>\n",
              "      <td>98</td>\n",
              "    </tr>\n",
              "    <tr>\n",
              "      <th>HYPERTENSION</th>\n",
              "      <td>95</td>\n",
              "    </tr>\n",
              "    <tr>\n",
              "      <th>SCHIZOPHRENIA</th>\n",
              "      <td>93</td>\n",
              "    </tr>\n",
              "    <tr>\n",
              "      <th>CORONARY ARTERY DISEASE</th>\n",
              "      <td>89</td>\n",
              "    </tr>\n",
              "    <tr>\n",
              "      <th>...</th>\n",
              "      <td>...</td>\n",
              "    </tr>\n",
              "    <tr>\n",
              "      <th>ST-SEGMENT ELEVATION MYOCARDIAL INFARCTION|NON ST-SEGMENT ELEVATION MYOCARDIAL INFARCTION</th>\n",
              "      <td>1</td>\n",
              "    </tr>\n",
              "    <tr>\n",
              "      <th>HEALTHY NON-SMOKERS|CURRENT SMOKERS|COPD PATIENTS</th>\n",
              "      <td>1</td>\n",
              "    </tr>\n",
              "    <tr>\n",
              "      <th>UNCOMPLICATED FALCIPARUM MALARIA|ARTEMISININ-RESISTANT</th>\n",
              "      <td>1</td>\n",
              "    </tr>\n",
              "    <tr>\n",
              "      <th>CARDIOTHORACIC SURGERY|VASCULAR SURGERY</th>\n",
              "      <td>1</td>\n",
              "    </tr>\n",
              "    <tr>\n",
              "      <th>STAGE 5 CHRONIC KIDNEY DISEASE (CKD)|SECONDARY HYPERPARATHYROIDISM (SHPT)|HEMODIALYSIS (HD)</th>\n",
              "      <td>1</td>\n",
              "    </tr>\n",
              "  </tbody>\n",
              "</table>\n",
              "<p>8324 rows × 1 columns</p>\n",
              "</div><br><label><b>dtype:</b> int64</label>"
            ]
          },
          "metadata": {},
          "execution_count": 9
        }
      ]
    },
    {
      "cell_type": "code",
      "source": [
        "all_drugs['Study Designs'].value_counts() # 467 type clinical trial study design coverage"
      ],
      "metadata": {
        "colab": {
          "base_uri": "https://localhost:8080/",
          "height": 524
        },
        "id": "MVkjHcWPwNCE",
        "outputId": "ef2f9ac7-c6bd-435a-e53e-3d48f4df05f6"
      },
      "execution_count": 10,
      "outputs": [
        {
          "output_type": "execute_result",
          "data": {
            "text/plain": [
              "Study Designs\n",
              "Allocation: Randomized|Intervention Model: Parallel Assignment|Masking: None (Open Label)|Primary Purpose: Treatment                                                                  3520\n",
              "Allocation: N/A|Intervention Model: Single Group Assignment|Masking: None (Open Label)|Primary Purpose: Treatment                                                                     2126\n",
              "Allocation: Randomized|Intervention Model: Parallel Assignment|Masking: Quadruple (Participant, Care Provider, Investigator, Outcomes Assessor)|Primary Purpose: Treatment            1859\n",
              "Allocation: Randomized|Intervention Model: Parallel Assignment|Masking: Double (Participant, Investigator)|Primary Purpose: Treatment                                                 1003\n",
              "Allocation: Randomized|Intervention Model: Parallel Assignment|Masking: Triple (Participant, Care Provider, Investigator)|Primary Purpose: Treatment                                   645\n",
              "                                                                                                                                                                                      ... \n",
              "Observational Model: Other|Time Perspective: Prospective                                                                                                                                 1\n",
              "Allocation: Randomized|Intervention Model: Single Group Assignment|Masking: Quadruple (Participant, Care Provider, Investigator, Outcomes Assessor)|Primary Purpose: Basic Science       1\n",
              "Allocation: Randomized|Intervention Model: Crossover Assignment|Masking: Single (Participant)|Primary Purpose: Health Services Research                                                  1\n",
              "Allocation: Randomized|Intervention Model: Single Group Assignment|Masking: Double (Participant, Care Provider)                                                                          1\n",
              "Allocation: Randomized|Intervention Model: Sequential Assignment|Masking: Double (Participant, Investigator)|Primary Purpose: Prevention                                                 1\n",
              "Name: count, Length: 440, dtype: int64"
            ],
            "text/html": [
              "<div>\n",
              "<style scoped>\n",
              "    .dataframe tbody tr th:only-of-type {\n",
              "        vertical-align: middle;\n",
              "    }\n",
              "\n",
              "    .dataframe tbody tr th {\n",
              "        vertical-align: top;\n",
              "    }\n",
              "\n",
              "    .dataframe thead th {\n",
              "        text-align: right;\n",
              "    }\n",
              "</style>\n",
              "<table border=\"1\" class=\"dataframe\">\n",
              "  <thead>\n",
              "    <tr style=\"text-align: right;\">\n",
              "      <th></th>\n",
              "      <th>count</th>\n",
              "    </tr>\n",
              "    <tr>\n",
              "      <th>Study Designs</th>\n",
              "      <th></th>\n",
              "    </tr>\n",
              "  </thead>\n",
              "  <tbody>\n",
              "    <tr>\n",
              "      <th>Allocation: Randomized|Intervention Model: Parallel Assignment|Masking: None (Open Label)|Primary Purpose: Treatment</th>\n",
              "      <td>3520</td>\n",
              "    </tr>\n",
              "    <tr>\n",
              "      <th>Allocation: N/A|Intervention Model: Single Group Assignment|Masking: None (Open Label)|Primary Purpose: Treatment</th>\n",
              "      <td>2126</td>\n",
              "    </tr>\n",
              "    <tr>\n",
              "      <th>Allocation: Randomized|Intervention Model: Parallel Assignment|Masking: Quadruple (Participant, Care Provider, Investigator, Outcomes Assessor)|Primary Purpose: Treatment</th>\n",
              "      <td>1859</td>\n",
              "    </tr>\n",
              "    <tr>\n",
              "      <th>Allocation: Randomized|Intervention Model: Parallel Assignment|Masking: Double (Participant, Investigator)|Primary Purpose: Treatment</th>\n",
              "      <td>1003</td>\n",
              "    </tr>\n",
              "    <tr>\n",
              "      <th>Allocation: Randomized|Intervention Model: Parallel Assignment|Masking: Triple (Participant, Care Provider, Investigator)|Primary Purpose: Treatment</th>\n",
              "      <td>645</td>\n",
              "    </tr>\n",
              "    <tr>\n",
              "      <th>...</th>\n",
              "      <td>...</td>\n",
              "    </tr>\n",
              "    <tr>\n",
              "      <th>Observational Model: Other|Time Perspective: Prospective</th>\n",
              "      <td>1</td>\n",
              "    </tr>\n",
              "    <tr>\n",
              "      <th>Allocation: Randomized|Intervention Model: Single Group Assignment|Masking: Quadruple (Participant, Care Provider, Investigator, Outcomes Assessor)|Primary Purpose: Basic Science</th>\n",
              "      <td>1</td>\n",
              "    </tr>\n",
              "    <tr>\n",
              "      <th>Allocation: Randomized|Intervention Model: Crossover Assignment|Masking: Single (Participant)|Primary Purpose: Health Services Research</th>\n",
              "      <td>1</td>\n",
              "    </tr>\n",
              "    <tr>\n",
              "      <th>Allocation: Randomized|Intervention Model: Single Group Assignment|Masking: Double (Participant, Care Provider)</th>\n",
              "      <td>1</td>\n",
              "    </tr>\n",
              "    <tr>\n",
              "      <th>Allocation: Randomized|Intervention Model: Sequential Assignment|Masking: Double (Participant, Investigator)|Primary Purpose: Prevention</th>\n",
              "      <td>1</td>\n",
              "    </tr>\n",
              "  </tbody>\n",
              "</table>\n",
              "<p>440 rows × 1 columns</p>\n",
              "</div><br><label><b>dtype:</b> int64</label>"
            ]
          },
          "metadata": {},
          "execution_count": 10
        }
      ]
    },
    {
      "cell_type": "markdown",
      "source": [
        "Deletion on all patents related features columns becouse patent does not play any significance role in Drug discovery or approval"
      ],
      "metadata": {
        "id": "KuR08v_WFAW_"
      }
    },
    {
      "cell_type": "code",
      "source": [
        "#Droping patents related columns like from combined_df create final_df\n",
        "drop_cols = ['Study Designs','Age_y','Patent_id','DrugBank ID','claims_#','Duration','Patent_#','PCT_code_0','PCT_code_1','PCT_code_2','CPC_code_0','CPC_code_1','CPC_code_2','CPC_code_3','CPC_code_4','CPC_code_5']\n",
        "final_df=all_drugs.drop(drop_cols, axis=1)"
      ],
      "metadata": {
        "id": "QZriW0eywsyG"
      },
      "execution_count": 11,
      "outputs": []
    },
    {
      "cell_type": "code",
      "source": [
        "drop_cal2=['Name', 'Status','NCT_Number','Funder_Type','Locations','CPC']\n",
        "final_df=final_df.drop(drop_cal2, axis=1)"
      ],
      "metadata": {
        "id": "hFETPyXNx359"
      },
      "execution_count": 12,
      "outputs": []
    },
    {
      "cell_type": "code",
      "source": [
        "drop_cal3=['Gender','SMILES','Conditions']\n",
        "final_df=final_df.drop(drop_cal3, axis=1)"
      ],
      "metadata": {
        "id": "Z4SoBR3byybc"
      },
      "execution_count": 13,
      "outputs": []
    },
    {
      "cell_type": "code",
      "source": [
        "final_df.shape"
      ],
      "metadata": {
        "colab": {
          "base_uri": "https://localhost:8080/"
        },
        "id": "TFo_epoW27IM",
        "outputId": "54be80cc-670f-4509-ba16-c3a2f17e6fac"
      },
      "execution_count": 14,
      "outputs": [
        {
          "output_type": "execute_result",
          "data": {
            "text/plain": [
              "(20907, 173)"
            ]
          },
          "metadata": {},
          "execution_count": 14
        }
      ]
    },
    {
      "cell_type": "markdown",
      "source": [
        "** Automatic Hyperparamer tuning Framework**"
      ],
      "metadata": {
        "id": "rrB1mq4Pzk6c"
      }
    },
    {
      "cell_type": "code",
      "source": [
        "x=final_df.drop('Label', axis=1)\n",
        "y=final_df['Label']"
      ],
      "metadata": {
        "id": "MOq9eNUf27ky"
      },
      "execution_count": 15,
      "outputs": []
    },
    {
      "cell_type": "code",
      "source": [
        "from sklearn.model_selection import train_test_split\n",
        "x_train, x_test, y_train, y_test = train_test_split(x, y, test_size=0.25, random_state=42)"
      ],
      "metadata": {
        "id": "WuaQIiPu0I8w"
      },
      "execution_count": 16,
      "outputs": []
    },
    {
      "cell_type": "code",
      "source": [
        "#create the model on above parameters\n",
        "model=RandomForestClassifier(max_depth=26, n_estimators=20, min_samples_split=2, min_samples_leaf=1, criterion= 'log_loss' )\n",
        "\n",
        "model.fit(x_train, y_train)\n",
        "#make prediction and evaluation of model\n",
        "y_pred=model.predict(x_test)\n",
        "accuracy=accuracy_score(y_test, y_pred)\n",
        "print(f\"Accuracy: {accuracy}\")\n"
      ],
      "metadata": {
        "id": "vIioalZiw-AM",
        "colab": {
          "base_uri": "https://localhost:8080/"
        },
        "outputId": "7fb273c2-eb6a-476c-ecc3-2fdabd4186df"
      },
      "execution_count": 18,
      "outputs": [
        {
          "output_type": "stream",
          "name": "stdout",
          "text": [
            "Accuracy: 0.954849818251387\n"
          ]
        }
      ]
    },
    {
      "cell_type": "code",
      "metadata": {
        "id": "ad565d98",
        "colab": {
          "base_uri": "https://localhost:8080/",
          "height": 472
        },
        "outputId": "58bf8ab1-b133-406d-b074-ed3c308c41ef"
      },
      "source": [
        "from sklearn.metrics import roc_curve, auc\n",
        "import matplotlib.pyplot as plt\n",
        "\n",
        "# Use the already trained RandomForestClassifier model\n",
        "\n",
        "# Predict probabilities on the test set using the already trained 'model'\n",
        "y_pred_proba = model.predict_proba(x_test)[:, 1]\n",
        "\n",
        "# Calculate ROC curve and AUC\n",
        "fpr, tpr, thresholds = roc_curve(y_test, y_pred_proba)\n",
        "roc_auc = auc(fpr, tpr)\n",
        "\n",
        "# Plot the ROC curve\n",
        "plt.figure()\n",
        "plt.plot(fpr, tpr, color='darkorange', lw=2, label='ROC curve (area = %0.2f)' % roc_auc)\n",
        "plt.plot([0, 1], [0, 1], color='navy', lw=2, linestyle='--')\n",
        "plt.xlim([0.0, 1.0])\n",
        "plt.ylim([0.0, 1.05])\n",
        "plt.xlabel('False Positive Rate')\n",
        "plt.ylabel('True Positive Rate')\n",
        "plt.title('Receiver Operating Characteristic (ROC) Curve')\n",
        "plt.legend(loc=\"lower right\")\n",
        "plt.show()"
      ],
      "execution_count": 20,
      "outputs": [
        {
          "output_type": "display_data",
          "data": {
            "text/plain": [
              "<Figure size 640x480 with 1 Axes>"
            ],
            "image/png": "[encoded data removed]"
          },
          "metadata": {}
        }
      ]
    },
    {
      "cell_type": "code",
      "source": [],
      "metadata": {
        "id": "MDWJrWcAHKqK"
      },
      "execution_count": null,
      "outputs": []
    },
    {
      "cell_type": "code",
      "metadata": {
        "id": "763e5bd4",
        "colab": {
          "base_uri": "https://localhost:8080/",
          "height": 472
        },
        "outputId": "9138c415-983b-44dc-9c04-76a59fd149ec"
      },
      "source": [
        "from sklearn.metrics import precision_recall_curve, auc\n",
        "\n",
        "# Calculate precision and recall\n",
        "precision, recall, _ = precision_recall_curve(y_test, y_pred_proba)\n",
        "\n",
        "# Calculate the area under the precision-recall curve\n",
        "pr_auc = auc(recall, precision)\n",
        "\n",
        "# Plot the Precision-Recall curve\n",
        "plt.figure()\n",
        "plt.plot(recall, precision, color='darkorange', lw=2, label='Precision-Recall curve (area = %0.2f)' % pr_auc)\n",
        "plt.xlim([0.0, 1.0])\n",
        "plt.ylim([0.0, 1.05])\n",
        "plt.xlabel('Recall')\n",
        "plt.ylabel('Precision')\n",
        "plt.title('Precision-Recall Curve')\n",
        "plt.legend(loc=\"lower right\")\n",
        "plt.show()"
      ],
      "execution_count": 21,
      "outputs": [
        {
          "output_type": "display_data",
          "data": {
            "text/plain": [
              "<Figure size 640x480 with 1 Axes>"
            ],
            "image/png": "[encoded data removed]"
          },
          "metadata": {}
        }
      ]
    },
    {
      "cell_type": "markdown",
      "source": [
        "**Mearurement of model Randomclassifier evalution metrix roc curve and precision-recall curve**"
      ],
      "metadata": {
        "id": "F_qdFak8KL6n"
      }
    },
    {
      "cell_type": "markdown",
      "source": [
        "**Trying with model XGBoost**"
      ],
      "metadata": {
        "id": "_FNG4aIw-mtz"
      }
    },
    {
      "cell_type": "code",
      "source": [
        "!pip install xgboost"
      ],
      "metadata": {
        "colab": {
          "base_uri": "https://localhost:8080/"
        },
        "id": "OtWv82v2_cSX",
        "outputId": "223bd4ab-71ec-4def-dbe6-605d99eef041"
      },
      "execution_count": 22,
      "outputs": [
        {
          "output_type": "stream",
          "name": "stdout",
          "text": [
            "Requirement already satisfied: xgboost in /usr/local/lib/python3.12/dist-packages (3.0.4)\n",
            "Requirement already satisfied: numpy in /usr/local/lib/python3.12/dist-packages (from xgboost) (2.0.2)\n",
            "Requirement already satisfied: nvidia-nccl-cu12 in /usr/local/lib/python3.12/dist-packages (from xgboost) (2.27.3)\n",
            "Requirement already satisfied: scipy in /usr/local/lib/python3.12/dist-packages (from xgboost) (1.16.1)\n"
          ]
        }
      ]
    },
    {
      "cell_type": "code",
      "source": [
        "from xgboost import XGBClassifier"
      ],
      "metadata": {
        "id": "I5fA9LDT--Xc"
      },
      "execution_count": 26,
      "outputs": []
    },
    {
      "cell_type": "code",
      "metadata": {
        "id": "2ead0ee8",
        "colab": {
          "base_uri": "https://localhost:8080/"
        },
        "outputId": "bba993d8-3b10-410f-c05d-32f48566d85c"
      },
      "source": [
        "model=XGBClassifier(\n",
        "    n_estimators=122,\n",
        "    max_depth=26,\n",
        "    learning_rate=0.21,\n",
        "    subsample=0.68,\n",
        "    colsample_bytree=0.15,\n",
        "    min_child_weight=2,\n",
        "    reg_alpha=0.41,\n",
        "    reg_lambda=0.07)\n",
        "\n",
        "model.fit(x_train, y_train)\n",
        "y_pred=model.predict(x_test)\n",
        "accuracy=accuracy_score(y_test, y_pred)\n",
        "\n",
        "print(f\"Accuracy: {accuracy}\")"
      ],
      "execution_count": 27,
      "outputs": [
        {
          "output_type": "stream",
          "name": "stdout",
          "text": [
            "Accuracy: 0.970154964606849\n"
          ]
        }
      ]
    },
    {
      "cell_type": "code",
      "source": [
        "from sklearn.metrics import roc_curve, auc\n",
        "import matplotlib.pyplot as plt\n",
        "from xgboost import XGBClassifier\n",
        "\n",
        "\n",
        "# Predict probabilities on the test set using the already trained 'model'\n",
        "y_pred_proba_xgb = model.predict_proba(x_test)[:, 1]\n",
        "\n",
        "# Calculate ROC curve and AUC\n",
        "fpr_xgb, tpr_xgb, thresholds_xgb = roc_curve(y_test, y_pred_proba_xgb)\n",
        "roc_auc_xgb = auc(fpr_xgb, tpr_xgb)\n",
        "\n",
        "# Plot the ROC curve\n",
        "plt.figure()\n",
        "plt.plot(fpr_xgb, tpr_xgb, color='blue', lw=2, label='XGBoost ROC curve (area = %0.2f)' % roc_auc_xgb)\n",
        "plt.plot([0, 1], [0, 1], color='navy', lw=2, linestyle='--')\n",
        "plt.xlim([0.0, 1.0])\n",
        "plt.ylim([0.0, 1.05])\n",
        "plt.xlabel('False Positive Rate')\n",
        "plt.ylabel('True Positive Rate')\n",
        "plt.title('Receiver Operating Characteristic (ROC) Curve - XGBoost')\n",
        "plt.legend(loc=\"lower right\")\n",
        "plt.show()"
      ],
      "metadata": {
        "colab": {
          "base_uri": "https://localhost:8080/",
          "height": 472
        },
        "id": "Q-7sD0lPDMgA",
        "outputId": "6debdd7b-8a76-4daa-91f8-e2300a652354"
      },
      "execution_count": 28,
      "outputs": [
        {
          "output_type": "display_data",
          "data": {
            "text/plain": [
              "<Figure size 640x480 with 1 Axes>"
            ],
            "image/png": "[encoded data removed]"
          },
          "metadata": {}
        }
      ]
    },
    {
      "cell_type": "code",
      "metadata": {
        "colab": {
          "base_uri": "https://localhost:8080/",
          "height": 472
        },
        "id": "639291d5",
        "outputId": "1a03fe60-b1f0-4cac-f51d-7aeb957efb92"
      },
      "source": [
        "from sklearn.metrics import precision_recall_curve, auc\n",
        "import matplotlib.pyplot as plt\n",
        "\n",
        "# Predict probabilities on the test set using the already trained 'model'\n",
        "y_pred_proba_xgb = model.predict_proba(x_test)[:, 1]\n",
        "\n",
        "# Calculate precision and recall\n",
        "precision_xgb, recall_xgb, _ = precision_recall_curve(y_test, y_pred_proba_xgb)\n",
        "\n",
        "# Calculate the area under the precision-recall curve\n",
        "pr_auc_xgb = auc(recall_xgb, precision_xgb)\n",
        "\n",
        "# Plot the Precision-Recall curve\n",
        "plt.figure()\n",
        "plt.plot(recall_xgb, precision_xgb, color='blue', lw=2, label='XGBoost Precision-Recall curve (area = %0.2f)' % pr_auc_xgb)\n",
        "plt.xlim([0.0, 1.0])\n",
        "plt.ylim([0.0, 1.05])\n",
        "plt.xlabel('Recall')\n",
        "plt.ylabel('Precision')\n",
        "plt.title('Precision-Recall Curve - XGBoost')\n",
        "plt.legend(loc=\"lower right\")\n",
        "plt.show()"
      ],
      "execution_count": 30,
      "outputs": [
        {
          "output_type": "display_data",
          "data": {
            "text/plain": [
              "<Figure size 640x480 with 1 Axes>"
            ],
            "image/png": "[encoded data removed]"
          },
          "metadata": {}
        }
      ]
    }
  ]
}